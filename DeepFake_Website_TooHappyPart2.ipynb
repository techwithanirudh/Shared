{
  "nbformat": 4,
  "nbformat_minor": 0,
  "metadata": {
    "colab": {
      "name": "DeepFake Website Originol",
      "provenance": [],
      "authorship_tag": "ABX9TyPzcS43G3NKkh3pw8P/FTMC",
      "include_colab_link": true
    },
    "kernelspec": {
      "name": "python3",
      "display_name": "Python 3"
    }
  },
  "cells": [
    {
      "cell_type": "markdown",
      "metadata": {
        "id": "view-in-github",
        "colab_type": "text"
      },
      "source": [
        "<a href=\"https://colab.research.google.com/github/techwithanirudh/Shared/blob/master/DeepFake_Website_TooHappyPart2.ipynb\" target=\"_parent\"><img src=\"https://colab.research.google.com/assets/colab-badge.svg\" alt=\"Open In Colab\"/></a>"
      ]
    },
    {
      "cell_type": "code",
      "metadata": {
        "id": "13ZbY83pEg_l",
        "colab": {
          "base_uri": "https://localhost:8080/"
        },
        "outputId": "8901a9b3-3668-42a4-e046-02843149f9eb"
      },
      "source": [
        "!pip install flask_ngrok flask_cors"
      ],
      "execution_count": 1,
      "outputs": [
        {
          "output_type": "stream",
          "text": [
            "Collecting flask_ngrok\n",
            "  Downloading https://files.pythonhosted.org/packages/af/6c/f54cb686ad1129e27d125d182f90f52b32f284e6c8df58c1bae54fa1adbc/flask_ngrok-0.0.25-py3-none-any.whl\n",
            "Collecting flask_cors\n",
            "  Downloading https://files.pythonhosted.org/packages/db/84/901e700de86604b1c4ef4b57110d4e947c218b9997adf5d38fa7da493bce/Flask_Cors-3.0.10-py2.py3-none-any.whl\n",
            "Requirement already satisfied: requests in /usr/local/lib/python3.7/dist-packages (from flask_ngrok) (2.23.0)\n",
            "Requirement already satisfied: Flask>=0.8 in /usr/local/lib/python3.7/dist-packages (from flask_ngrok) (1.1.2)\n",
            "Requirement already satisfied: Six in /usr/local/lib/python3.7/dist-packages (from flask_cors) (1.15.0)\n",
            "Requirement already satisfied: certifi>=2017.4.17 in /usr/local/lib/python3.7/dist-packages (from requests->flask_ngrok) (2020.12.5)\n",
            "Requirement already satisfied: urllib3!=1.25.0,!=1.25.1,<1.26,>=1.21.1 in /usr/local/lib/python3.7/dist-packages (from requests->flask_ngrok) (1.24.3)\n",
            "Requirement already satisfied: chardet<4,>=3.0.2 in /usr/local/lib/python3.7/dist-packages (from requests->flask_ngrok) (3.0.4)\n",
            "Requirement already satisfied: idna<3,>=2.5 in /usr/local/lib/python3.7/dist-packages (from requests->flask_ngrok) (2.10)\n",
            "Requirement already satisfied: Werkzeug>=0.15 in /usr/local/lib/python3.7/dist-packages (from Flask>=0.8->flask_ngrok) (1.0.1)\n",
            "Requirement already satisfied: click>=5.1 in /usr/local/lib/python3.7/dist-packages (from Flask>=0.8->flask_ngrok) (7.1.2)\n",
            "Requirement already satisfied: itsdangerous>=0.24 in /usr/local/lib/python3.7/dist-packages (from Flask>=0.8->flask_ngrok) (1.1.0)\n",
            "Requirement already satisfied: Jinja2>=2.10.1 in /usr/local/lib/python3.7/dist-packages (from Flask>=0.8->flask_ngrok) (2.11.3)\n",
            "Requirement already satisfied: MarkupSafe>=0.23 in /usr/local/lib/python3.7/dist-packages (from Jinja2>=2.10.1->Flask>=0.8->flask_ngrok) (1.1.1)\n",
            "Installing collected packages: flask-ngrok, flask-cors\n",
            "Successfully installed flask-cors-3.0.10 flask-ngrok-0.0.25\n"
          ],
          "name": "stdout"
        }
      ]
    },
    {
      "cell_type": "code",
      "metadata": {
        "colab": {
          "base_uri": "https://localhost:8080/"
        },
        "id": "tfrUMpWNE1Fc",
        "outputId": "b2747abd-6598-4c71-8b7c-5742d02ee318"
      },
      "source": [
        "!git clone https://github.com/AliaksandrSiarohin/first-order-model\r\n",
        "!cd first-order-model"
      ],
      "execution_count": 5,
      "outputs": [
        {
          "output_type": "stream",
          "text": [
            "Cloning into 'first-order-model'...\n",
            "remote: Enumerating objects: 256, done.\u001b[K\n",
            "remote: Total 256 (delta 0), reused 0 (delta 0), pack-reused 256\u001b[K\n",
            "Receiving objects: 100% (256/256), 72.13 MiB | 23.02 MiB/s, done.\n",
            "Resolving deltas: 100% (128/128), done.\n"
          ],
          "name": "stdout"
        }
      ]
    },
    {
      "cell_type": "code",
      "metadata": {
        "id": "ow4fC3MPE4sG"
      },
      "source": [
        "from google.colab import drive\r\n",
        "drive.mount('/content/gdrive')"
      ],
      "execution_count": null,
      "outputs": []
    },
    {
      "cell_type": "code",
      "metadata": {
        "id": "crw0z5zsE8iV"
      },
      "source": [
        "import os\r\n",
        "\r\n",
        "# os.chdir('/content/gdrive/MyDrive')\r\n",
        "# !unzip first-order-motion-model.zip\r\n",
        "os.chdir('/content/first-order-model')"
      ],
      "execution_count": null,
      "outputs": []
    },
    {
      "cell_type": "code",
      "metadata": {
        "id": "UCfaoHksQ70d"
      },
      "source": [
        "os.mkdir('/content/templates')\r\n",
        "os.chdir('/content/templates')"
      ],
      "execution_count": 3,
      "outputs": []
    },
    {
      "cell_type": "code",
      "metadata": {
        "id": "ohdQIze7iNj3"
      },
      "source": [
        "with open('index.html', 'w') as f:\r\n",
        "  f.write('''\r\n",
        "<!DOCTYPE html>\r\n",
        "<html lang=\"en\">\r\n",
        "<head>\r\n",
        "    <meta charset=\"UTF-8\">\r\n",
        "    <meta name=\"viewport\" content=\"width=device-width, initial-scale=1.0\">\r\n",
        "    <script src=\"https://ajax.googleapis.com/ajax/libs/jquery/3.5.1/jquery.min.js\"></script>\r\n",
        "    <title>Document</title>\r\n",
        "    <style>\r\n",
        "        body{\r\n",
        "          background: rgba(0,0,0,0.9);\r\n",
        "        }\r\n",
        "        form{\r\n",
        "          position: absolute;\r\n",
        "          top: 50%;\r\n",
        "          left: 50%;\r\n",
        "          margin-top: -100px;\r\n",
        "          margin-left: -250px;\r\n",
        "          width: 500px;\r\n",
        "          height: 200px;\r\n",
        "          border: 4px dashed #fff;\r\n",
        "        }\r\n",
        "        form p{\r\n",
        "          width: 100%;\r\n",
        "          height: 100%;\r\n",
        "          text-align: center;\r\n",
        "          line-height: 170px;\r\n",
        "          color: #ffffff;\r\n",
        "          font-family: Arial;\r\n",
        "        }\r\n",
        "        form input{\r\n",
        "          position: absolute;\r\n",
        "          margin: 0;\r\n",
        "          padding: 0;\r\n",
        "          width: 100%;\r\n",
        "          height: 100%;\r\n",
        "          outline: none;\r\n",
        "          opacity: 0;\r\n",
        "        }\r\n",
        "        form button{\r\n",
        "          margin: 0;\r\n",
        "          color: #fff;\r\n",
        "          background: #16a085;\r\n",
        "          border: none;\r\n",
        "          width: 508px;\r\n",
        "          height: 35px;\r\n",
        "          margin-top: -20px;\r\n",
        "          margin-left: -4px;\r\n",
        "          border-radius: 4px;\r\n",
        "          border-bottom: 4px solid #117A60;\r\n",
        "          transition: all .2s ease;\r\n",
        "          outline: none;\r\n",
        "        }\r\n",
        "        form button:hover{\r\n",
        "          background: #149174;\r\n",
        "        \tcolor: #0C5645;\r\n",
        "        }\r\n",
        "        form button:active{\r\n",
        "          border:0;\r\n",
        "        }\r\n",
        "    </style>\r\n",
        "    <noscript>\r\n",
        "        <style type=\"text/css\">\r\n",
        "            .pagecontainer {display:none;}\r\n",
        "        </style>\r\n",
        "        <div class=\"noscriptmsg\">\r\n",
        "        You don't have javascript enabled!\r\n",
        "        Turn on javascript to continue to this page.\r\n",
        "        </div>\r\n",
        "    </noscript>\r\n",
        "</head>\r\n",
        "<body>\r\n",
        "    <form action=\"/upload\" method=\"POST\" enctype=\"multipart/form-data\">\r\n",
        "        <input type=\"file\" name=\"file\" multiple>\r\n",
        "        <p>Drag your files here or click in this area.</p>\r\n",
        "        <button type=\"submit\">Upload</button>\r\n",
        "    </form>\r\n",
        "\r\n",
        "    <script>\r\n",
        "        $(document).ready(function(){\r\n",
        "          $('form input').change(function () {\r\n",
        "            $('form p').text(this.files.length + \" file(s) selected\");\r\n",
        "          });\r\n",
        "        });\r\n",
        "    </script>\r\n",
        "</body>\r\n",
        "</html>\r\n",
        "  ''')\r\n",
        "f.close()"
      ],
      "execution_count": 9,
      "outputs": []
    },
    {
      "cell_type": "code",
      "metadata": {
        "id": "jPYnb-BtiVcu"
      },
      "source": [
        "with open('progress.html', 'w') as f:\r\n",
        "  f.write('''\r\n",
        "\r\n",
        "<!DOCTYPE html>\r\n",
        "<html lang=\"en\">\r\n",
        "<head>\r\n",
        "    <meta charset=\"UTF-8\">\r\n",
        "    <meta name=\"viewport\" content=\"width=device-width, initial-scale=1.0\">\r\n",
        "    <title>Document</title>\r\n",
        "    <style>\r\n",
        "        body{\r\n",
        "          background: rgba(0,0,0,0.9);\r\n",
        "        }\r\n",
        "        .progress-line, .progress-line:before {\r\n",
        "          height: 20px;\r\n",
        "          width: 100%;\r\n",
        "          margin: 0;    \r\n",
        "        }\r\n",
        "        .progress-line {\r\n",
        "          background-color: #b3d4fc;\r\n",
        "          display: -webkit-flex;\r\n",
        "          display: flex;\r\n",
        "        }\r\n",
        "        .progress-line:before {\r\n",
        "          background-color: #3f51b5;\r\n",
        "          content: '';\r\n",
        "          -webkit-animation: running-progress 2s cubic-bezier(0.4, 0, 0.2, 1) infinite;\r\n",
        "          animation: running-progress 2s cubic-bezier(0.4, 0, 0.2, 1) infinite;\r\n",
        "        }\r\n",
        "        @-webkit-keyframes running-progress {\r\n",
        "          0% { margin-left: 0px; margin-right: 100%; }\r\n",
        "          50% { margin-left: 25%; margin-right: 0%; }\r\n",
        "          100% { margin-left: 100%; margin-right: 0; }\r\n",
        "        }\r\n",
        "        @keyframes running-progress {\r\n",
        "          0% { margin-left: 0px; margin-right: 100%; }\r\n",
        "          50% { margin-left: 25%; margin-right: 0%; }\r\n",
        "          100% { margin-left: 100%; margin-right: 0; }\r\n",
        "        }\r\n",
        "    </style>\r\n",
        "    <noscript>\r\n",
        "        <style type=\"text/css\">\r\n",
        "            .pagecontainer {display:none;}\r\n",
        "        </style>\r\n",
        "        <div class=\"noscriptmsg\">\r\n",
        "        You don't have javascript enabled!\r\n",
        "        Turn on javascript to continue to this page.\r\n",
        "        </div>\r\n",
        "    </noscript>\r\n",
        "</head>\r\n",
        "<body>\r\n",
        "    <div class=\"main\">\r\n",
        "        <h2 style=\"color: white;\">Creating DeepFake</h2>\r\n",
        "        <p style=\"color: white;\">Progress:</p>\r\n",
        "        <div class=\"progress-line\"></div>\r\n",
        "    <div>\r\n",
        "    \r\n",
        "    <script>\r\n",
        "      document.location.href = '/convertDf'\r\n",
        "    </script>\r\n",
        "</body>\r\n",
        "</html>\r\n",
        "  ''')\r\n",
        "f.close()"
      ],
      "execution_count": 12,
      "outputs": []
    },
    {
      "cell_type": "code",
      "metadata": {
        "id": "gS_gX4UoFU6e"
      },
      "source": [
        "from flask import *\r\n",
        "from flask_ngrok import run_with_ngrok\r\n",
        "from flask_cors import CORS\r\n",
        "from werkzeug.utils import secure_filename\r\n",
        "import time, requests\r\n",
        "\r\n",
        "app = Flask(__name__, root_path='/content/')\r\n",
        "CORS(app)\r\n",
        "run_with_ngrok(app)\r\n",
        "\r\n",
        "@app.before_request\r\n",
        "def before_request():\r\n",
        "  global url\r\n",
        "  url = request.url\r\n",
        "  url = url.split('.ngrok.io')[0]\r\n",
        "  url += '.ngrok.io'\r\n",
        "\r\n",
        "@app.route('/')\r\n",
        "def ip_get():\r\n",
        "  if request.environ.get('HTTP_X_FORWARDED_FOR') is None:\r\n",
        "    jsonIp = {'ip': request.environ['REMOTE_ADDR']}\r\n",
        "  else:\r\n",
        "    jsonIp = {'ip': request.environ['HTTP_X_FORWARDED_FOR']}\r\n",
        "\r\n",
        "  print(jsonIp)\r\n",
        "  return redirect('/main')\r\n",
        "\r\n",
        "@app.route('/main')\r\n",
        "def main():\r\n",
        "  return render_template('index.html')\r\n",
        "\r\n",
        "@app.route('/upload', methods=['POST'])\r\n",
        "def upload():\r\n",
        "  f = request.files['file']\r\n",
        "  f.save(secure_filename(f.filename))\r\n",
        "  ret = redirect(url + '/progress')\r\n",
        "  return redirect(url + '/progress')\r\n",
        "\r\n",
        "@app.route('/progress', methods=['POST', 'GET'])\r\n",
        "def progress():\r\n",
        "  return render_template('progress.html')\r\n",
        "\r\n",
        "@app.route('/convertDf', methods=['POST', 'GET'])\r\n",
        "def deepFake():\r\n",
        "  time.sleep(10)\r\n",
        "  return redirect('/main')\r\n",
        "\r\n",
        "app.run()"
      ],
      "execution_count": null,
      "outputs": []
    }
  ]
}