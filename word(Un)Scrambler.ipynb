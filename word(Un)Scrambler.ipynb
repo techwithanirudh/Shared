{
  "nbformat": 4,
  "nbformat_minor": 0,
  "metadata": {
    "colab": {
      "name": "word(Un)Scrambler",
      "provenance": [],
      "collapsed_sections": [],
      "authorship_tag": "ABX9TyNGe98N6Rvhy4x6glDfl7l+",
      "include_colab_link": true
    },
    "kernelspec": {
      "name": "python3",
      "display_name": "Python 3"
    },
    "language_info": {
      "name": "python"
    }
  },
  "cells": [
    {
      "cell_type": "markdown",
      "metadata": {
        "id": "view-in-github",
        "colab_type": "text"
      },
      "source": [
        "<a href=\"https://colab.research.google.com/github/techwithanirudh/Shared/blob/master/word(Un)Scrambler.ipynb\" target=\"_parent\"><img src=\"https://colab.research.google.com/assets/colab-badge.svg\" alt=\"Open In Colab\"/></a>"
      ]
    },
    {
      "cell_type": "code",
      "metadata": {
        "id": "_3V87jeSy--Z"
      },
      "source": [
        "!pip install pyspellchecker\n",
        "# https://github.com/techwithanirudh/Shared/blob/a1f9d1b18fba5a8f11bc91c36dcf1034c92dc5d9/word(Un)Scrambler.py"
      ],
      "execution_count": null,
      "outputs": []
    },
    {
      "cell_type": "code",
      "metadata": {
        "colab": {
          "base_uri": "https://localhost:8080/"
        },
        "id": "1CgnrifiEv7-",
        "outputId": "fee2d044-8ca3-42ad-9d09-8dec8da46380"
      },
      "source": [
        "import threading\n",
        "import time\n",
        "from spellchecker import SpellChecker\n",
        "from random import shuffle\n",
        "import time\n",
        "\n",
        "spell = SpellChecker()\n",
        "word = input('Enter a word: ')\n",
        "sGen = input('Do you want to scramble it (Y/N)? ')\n",
        "sGen, word = sGen.lower(), word.lower()\n",
        "\n",
        "if sGen == 'y': sGen = True\n",
        "if sGen == 'n': sGen = False\n",
        "\n",
        "def shuffle_word(word):\n",
        "  word = list(word)\n",
        "  shuffle(word)\n",
        "  return ''.join(word)\n",
        "\n",
        "if sGen:\n",
        "  wordShu = shuffle_word(wordInp)\n",
        "\n",
        "def crack():\n",
        "  global wordShu, sGen, word, spell\n",
        "  while True:\n",
        "    try:\n",
        "      word = shuffle_word(word)\n",
        "      corrected = spell.correction(word)\n",
        "      if corrected != word:\n",
        "        if len(corrected) == len(word):\n",
        "          correctedL = list(corrected)\n",
        "          if all(letter in correctedL for letter in word):\n",
        "            print('Unscrambled Word Is:', corrected)\n",
        "            if sGen: print('Scrambled Word Is:', wordShu)\n",
        "            print('\\n\\n')\n",
        "            break\n",
        "    except KeyboardInterrupt:\n",
        "      break\n",
        "\n",
        "def create_thread(nT):\n",
        "  try:\n",
        "    for i in range(1, nT):  # trying to spawn nT threads.\n",
        "      thread = threading.Thread(target=crack)\n",
        "      thread.start()\n",
        "      if threading.active_count() == 100:  # set maximum threads.\n",
        "        thread.join()\n",
        "  except Exception as e:\n",
        "    print(\"Error: unable to start thread {}\".format(e))\n",
        "\n",
        "\n",
        "if __name__ == '__main__':\n",
        "    create_thread(50)"
      ],
      "execution_count": null,
      "outputs": [
        {
          "output_type": "stream",
          "text": [
            "Unscrambled Word Is: pscitla\n",
            "Unscrambled Word Is: lticaps\n",
            "Unscrambled Word Is: iasltpc\n",
            "Unscrambled Word Is: paslitc\n",
            "Unscrambled Word Is: isaplct\n",
            "Unscrambled Word Is:Unscrambled Word Is:Unscrambled Word Is: tialspc\n",
            "Unscrambled Word Is:Unscrambled Word Is: tacpisl\n",
            " aitslcp\n",
            " lsptaicUnscrambled Word Is: tpscila\n",
            " tciaspl\n",
            "Unscrambled Word Is: itpclsa\n",
            "Unscrambled Word Is: tlicspa\n",
            "Unscrambled Word Is:\n",
            " plctasi\n",
            "Unscrambled Word Is: lpisatc\n",
            "Unscrambled Word Is: tlcaspi\n",
            "Unscrambled Word Is: istlpac\n",
            "Unscrambled Word Is: plastic\n",
            "Unscrambled Word Is: tlscapi\n",
            "Unscrambled Word Is: tspcila\n",
            "Unscrambled Word Is: psacilt\n"
          ],
          "name": "stdout"
        }
      ]
    }
  ]
}