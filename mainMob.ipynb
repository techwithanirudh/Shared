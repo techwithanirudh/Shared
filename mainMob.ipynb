{
  "nbformat": 4,
  "nbformat_minor": 0,
  "metadata": {
    "colab": {
      "name": "mainMob.ipynb",
      "provenance": [],
      "collapsed_sections": [],
      "authorship_tag": "ABX9TyNKaB1SPfnCFnHIDcKReQTz",
      "include_colab_link": true
    },
    "kernelspec": {
      "name": "python3",
      "display_name": "Python 3"
    }
  },
  "cells": [
    {
      "cell_type": "markdown",
      "metadata": {
        "id": "view-in-github",
        "colab_type": "text"
      },
      "source": [
        "<a href=\"https://colab.research.google.com/github/techwithanirudh/Shared/blob/master/mainMob.ipynb\" target=\"_parent\"><img src=\"https://colab.research.google.com/assets/colab-badge.svg\" alt=\"Open In Colab\"/></a>"
      ]
    },
    {
      "cell_type": "code",
      "metadata": {
        "id": "ZqT5g7l5ibz0"
      },
      "source": [
        "from google.colab import files\r\n",
        "\r\n",
        "uploaded = files.upload()"
      ],
      "execution_count": null,
      "outputs": []
    },
    {
      "cell_type": "code",
      "metadata": {
        "id": "i_4kdwsZiq2e"
      },
      "source": [
        "import requests\r\n",
        "import base64\r\n",
        "import os\r\n",
        "\r\n",
        "fname = 'path/to/file'\r\n",
        "\r\n",
        "with open(fname, 'rb') as img_file:\r\n",
        "    my_string = base64.b64encode(img_file.read())\r\n",
        "\r\n",
        "print(requests.post('https://f78332c17553.ngrok.io/path/face.png/compute', my_string).text)"
      ],
      "execution_count": null,
      "outputs": []
    }
  ]
}