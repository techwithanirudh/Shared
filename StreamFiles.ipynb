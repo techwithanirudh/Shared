{
  "nbformat": 4,
  "nbformat_minor": 0,
  "metadata": {
    "colab": {
      "name": "StreamFiles",
      "provenance": [],
      "collapsed_sections": [],
      "authorship_tag": "ABX9TyMMwgx2mOhm1NGwyll8JpWt",
      "include_colab_link": true
    },
    "kernelspec": {
      "name": "python3",
      "display_name": "Python 3"
    }
  },
  "cells": [
    {
      "cell_type": "markdown",
      "metadata": {
        "id": "view-in-github",
        "colab_type": "text"
      },
      "source": [
        "<a href=\"https://colab.research.google.com/github/techwithanirudh/Shared/blob/master/StreamFiles.ipynb\" target=\"_parent\"><img src=\"https://colab.research.google.com/assets/colab-badge.svg\" alt=\"Open In Colab\"/></a>"
      ]
    },
    {
      "cell_type": "code",
      "metadata": {
        "id": "vKd3SxCYS2uv"
      },
      "source": [
        "!pip install flask_ngrok flask_cors ipinfo\r\n",
        "# docs ipinfo https://github.com/ipinfo/python"
      ],
      "execution_count": null,
      "outputs": []
    },
    {
      "cell_type": "code",
      "metadata": {
        "id": "EGBRIZoYTUOM"
      },
      "source": [
        "from google.colab import files\r\n",
        "\r\n",
        "uploaded = files.upload()\r\n",
        "\r\n",
        "for fn in uploaded.keys():\r\n",
        "  print('User uploaded file \"{name}\" with length {length} bytes'.format(\r\n",
        "      name=fn, length=len(uploaded[fn])))"
      ],
      "execution_count": null,
      "outputs": []
    },
    {
      "cell_type": "code",
      "metadata": {
        "id": "3XTnoaQRW1Mu"
      },
      "source": [
        "import os\r\n",
        "\r\n",
        "os.mkdir('/content/templates')\r\n",
        "os.chdir('/content/')"
      ],
      "execution_count": 8,
      "outputs": []
    },
    {
      "cell_type": "code",
      "metadata": {
        "id": "iYYkDjwx_xbX"
      },
      "source": [
        "open('/content/templates/index.html', 'a')\r\n",
        "with open('/content/templates/index.html', 'w') as f:\r\n",
        "  f.write('''\r\n",
        "<!DOCTYPE html>\r\n",
        "<html>\r\n",
        "<style>\r\n",
        "input[type=text], select {\r\n",
        "  width: 100%;\r\n",
        "  padding: 12px 20px;\r\n",
        "  margin: 8px 0;\r\n",
        "  display: inline-block;\r\n",
        "  border: 1px solid #ccc;\r\n",
        "  border-radius: 4px;\r\n",
        "  box-sizing: border-box;\r\n",
        "}\r\n",
        "\r\n",
        "input[type=submit] {\r\n",
        "  width: 100%;\r\n",
        "  background-color: #4CAF50;\r\n",
        "  color: white;\r\n",
        "  padding: 14px 20px;\r\n",
        "  margin: 8px 0;\r\n",
        "  border: none;\r\n",
        "  border-radius: 4px;\r\n",
        "  cursor: pointer;\r\n",
        "}\r\n",
        "\r\n",
        "input[type=submit]:hover {\r\n",
        "  background-color: #45a049;\r\n",
        "}\r\n",
        "\r\n",
        "div {\r\n",
        "  border-radius: 5px;\r\n",
        "  background-color: #f2f2f2;\r\n",
        "  padding: 20px;\r\n",
        "}\r\n",
        "</style>\r\n",
        "<body>\r\n",
        "\r\n",
        "<h1>Video</h1>\r\n",
        "\r\n",
        "<div>\r\n",
        "  <form action=\"/sendFile\" method=\"POST\">\r\n",
        "    <label for=\"vname\">Video Name</label>\r\n",
        "    <input type=\"text\" id=\"vname\" name=\"videoname\" placeholder=\"Video name..\">\r\n",
        "    <input type=\"submit\" value=\"Submit\">\r\n",
        "  </form>\r\n",
        "</div>\r\n",
        "\r\n",
        "</body>\r\n",
        "</html>\r\n",
        "  ''')\r\n",
        "f.close()"
      ],
      "execution_count": 11,
      "outputs": []
    },
    {
      "cell_type": "code",
      "metadata": {
        "id": "QnsI5hHl7kud"
      },
      "source": [
        "from flask import send_file, Flask, render_template, request\r\n",
        "from flask_ngrok import run_with_ngrok\r\n",
        "from flask_cors import CORS\r\n",
        "\r\n",
        "app = Flask(__name__, root_path='/content')\r\n",
        "CORS(app)\r\n",
        "run_with_ngrok(app)\r\n",
        "\r\n",
        "@app.route('/sendFile', methods=['POST'])\r\n",
        "def sendFile():\r\n",
        "  return send_file(request.form['videoname'])\r\n",
        "\r\n",
        "@app.route('/')\r\n",
        "def index():\r\n",
        "  return render_template('index.html')\r\n",
        "\r\n",
        "app.run()"
      ],
      "execution_count": null,
      "outputs": []
    },
    {
      "cell_type": "code",
      "metadata": {
        "id": "2KrzTYRfcTwo"
      },
      "source": [
        "import ipinfo\r\n",
        "\r\n",
        "access_token = '' # https://ipinfo.io/account/home\r\n",
        "handler = ipinfo.getHandler(access_token)\r\n",
        "ip_address = jsonIp['ip']\r\n",
        "details = handler.getDetails(ip_address)\r\n",
        "print(details.all)"
      ],
      "execution_count": null,
      "outputs": []
    }
  ]
}