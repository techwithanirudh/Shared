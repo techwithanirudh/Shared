{
  "nbformat": 4,
  "nbformat_minor": 0,
  "metadata": {
    "colab": {
      "name": "Copy of mainMob.ipynb",
      "provenance": [],
      "collapsed_sections": [],
      "authorship_tag": "ABX9TyOD7ysXIoR8wI7HAl4f6JZG",
      "include_colab_link": true
    },
    "kernelspec": {
      "name": "python3",
      "display_name": "Python 3"
    }
  },
  "cells": [
    {
      "cell_type": "markdown",
      "metadata": {
        "id": "view-in-github",
        "colab_type": "text"
      },
      "source": [
        "<a href=\"https://colab.research.google.com/github/techwithanirudh/Shared/blob/master/Copy_of_mainMob.ipynb\" target=\"_parent\"><img src=\"https://colab.research.google.com/assets/colab-badge.svg\" alt=\"Open In Colab\"/></a>"
      ]
    },
    {
      "cell_type": "code",
      "metadata": {
        "id": "ZqT5g7l5ibz0"
      },
      "source": [
        "from google.colab import files\r\n",
        "\r\n",
        "uploaded = files.upload()"
      ],
      "execution_count": null,
      "outputs": []
    },
    {
      "cell_type": "code",
      "metadata": {
        "id": "i_4kdwsZiq2e"
      },
      "source": [
        "from google.colab import files\r\n",
        "import requests\r\n",
        "import base64\r\n",
        "import os\r\n",
        "\r\n",
        "uploaded = files.upload()\r\n",
        "\r\n",
        "for fname in uploaded.keys():\r\n",
        "  fname = fname\r\n",
        "\r\n",
        "with open('/content/' + fname, 'rb') as img_file:\r\n",
        "    my_string = base64.b64encode(img_file.read())\r\n",
        "\r\n",
        "url = f'https://826990c43bf5.ngrok.io/path/{fname}/compute'\r\n",
        "imgdata = requests.post(url, my_string)\r\n",
        "print(type(imgdata))\r\n",
        "imgdata = base64.b64decode(imgdata)\r\n",
        "with open(f'/content/toon{fname}', 'wb') as f:\r\n",
        "  f.write(imgdata)"
      ],
      "execution_count": null,
      "outputs": []
    }
  ]
}