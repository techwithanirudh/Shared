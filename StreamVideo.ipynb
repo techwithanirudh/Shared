{
  "nbformat": 4,
  "nbformat_minor": 0,
  "metadata": {
    "colab": {
      "name": "StreamVideo",
      "provenance": [],
      "authorship_tag": "ABX9TyNS+BpU/ss6bb9WH3YnpwtF",
      "include_colab_link": true
    },
    "kernelspec": {
      "name": "python3",
      "display_name": "Python 3"
    }
  },
  "cells": [
    {
      "cell_type": "markdown",
      "metadata": {
        "id": "view-in-github",
        "colab_type": "text"
      },
      "source": [
        "<a href=\"https://colab.research.google.com/github/techwithanirudh/Shared/blob/master/StreamVideo.ipynb\" target=\"_parent\"><img src=\"https://colab.research.google.com/assets/colab-badge.svg\" alt=\"Open In Colab\"/></a>"
      ]
    },
    {
      "cell_type": "code",
      "metadata": {
        "id": "vKd3SxCYS2uv"
      },
      "source": [
        "!pip install flask_ngrok\r\n",
        "!pip install flask_cors"
      ],
      "execution_count": null,
      "outputs": []
    },
    {
      "cell_type": "code",
      "metadata": {
        "id": "EGBRIZoYTUOM"
      },
      "source": [
        "from google.colab import files\r\n",
        "\r\n",
        "uploaded = files.upload()\r\n",
        "\r\n",
        "for fn in uploaded.keys():\r\n",
        "  print('User uploaded file \"{name}\" with length {length} bytes'.format(\r\n",
        "      name=fn, length=len(uploaded[fn])))"
      ],
      "execution_count": null,
      "outputs": []
    },
    {
      "cell_type": "code",
      "metadata": {
        "id": "3XTnoaQRW1Mu"
      },
      "source": [
        "import os\r\n",
        "\r\n",
        "os.chdir('/content/')"
      ],
      "execution_count": 15,
      "outputs": []
    },
    {
      "cell_type": "code",
      "metadata": {
        "id": "UIS0EfHzTE1H"
      },
      "source": [
        "from flask import Flask, render_template, request, Response\r\n",
        "from flask_ngrok import run_with_ngrok\r\n",
        "from flask_cors import CORS\r\n",
        "import os, re\r\n",
        "\r\n",
        "app = Flask(__name__, root_path='/content/')\r\n",
        "CORS(app)\r\n",
        "run_with_ngrok(app)\r\n",
        "\r\n",
        "@app.after_request\r\n",
        "def after_request(response):\r\n",
        "    response.headers.add('Accept-Ranges', 'bytes')\r\n",
        "    return response\r\n",
        "\r\n",
        "\r\n",
        "def get_chunk(byte1=None, byte2=None):\r\n",
        "    full_path = \"/content/test.mp4\"\r\n",
        "    file_size = os.stat(full_path).st_size\r\n",
        "    start = 0\r\n",
        "    length = 102400\r\n",
        "\r\n",
        "    if byte1 < file_size:\r\n",
        "        start = byte1\r\n",
        "    if byte2:\r\n",
        "        length = byte2 + 1 - byte1\r\n",
        "    else:\r\n",
        "        length = file_size - start\r\n",
        "\r\n",
        "    with open(full_path, 'rb') as f:\r\n",
        "        f.seek(start)\r\n",
        "        chunk = f.read(length)\r\n",
        "    return chunk, start, length, file_size\r\n",
        "\r\n",
        "\r\n",
        "@app.route('/')\r\n",
        "def get_file():\r\n",
        "    range_header = request.headers.get('Range', None)\r\n",
        "    byte1, byte2 = 0, None\r\n",
        "    if range_header:\r\n",
        "        match = re.search(r'(\\d+)-(\\d*)', range_header)\r\n",
        "        groups = match.groups()\r\n",
        "\r\n",
        "        if groups[0]:\r\n",
        "            byte1 = int(groups[0])\r\n",
        "        if groups[1]:\r\n",
        "            byte2 = int(groups[1])\r\n",
        "\r\n",
        "    chunk, start, length, file_size = get_chunk(byte1, byte2)\r\n",
        "    resp = Response(chunk, 206, mimetype='video/mp4',\r\n",
        "                      content_type='video/mp4', direct_passthrough=True)\r\n",
        "    resp.headers.add('Content-Range', 'bytes {0}-{1}/{2}'.format(start, start + length - 1, file_size))\r\n",
        "    return resp\r\n",
        "\r\n",
        "if __name__ == '__main__':\r\n",
        "    app.run()"
      ],
      "execution_count": null,
      "outputs": []
    }
  ]
}