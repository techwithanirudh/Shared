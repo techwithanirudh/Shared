{
  "nbformat": 4,
  "nbformat_minor": 0,
  "metadata": {
    "colab": {
      "name": "grapesjs-example-react",
      "provenance": [],
      "collapsed_sections": [],
      "authorship_tag": "ABX9TyOjhEjw3M4DSs1QKxO1K466",
      "include_colab_link": true
    },
    "kernelspec": {
      "display_name": "Python 3",
      "name": "python3"
    },
    "language_info": {
      "name": "python"
    }
  },
  "cells": [
    {
      "cell_type": "markdown",
      "metadata": {
        "id": "view-in-github",
        "colab_type": "text"
      },
      "source": [
        "<a href=\"https://colab.research.google.com/github/techwithanirudh/Shared/blob/master/grapesjs_example_react.ipynb\" target=\"_parent\"><img src=\"https://colab.research.google.com/assets/colab-badge.svg\" alt=\"Open In Colab\"/></a>"
      ]
    },
    {
      "cell_type": "code",
      "metadata": {
        "colab": {
          "base_uri": "https://localhost:8080/"
        },
        "id": "P54A7KQeagBm",
        "outputId": "3dca72cc-7a95-4195-a25d-89de525fdd7d"
      },
      "source": [
        "!git clone https://github.com/vijayshukla30/grapesjs-example-react.git"
      ],
      "execution_count": 1,
      "outputs": [
        {
          "output_type": "stream",
          "name": "stdout",
          "text": [
            "Cloning into 'grapesjs-example-react'...\n",
            "remote: Enumerating objects: 142, done.\u001b[K\n",
            "remote: Counting objects: 100% (142/142), done.\u001b[K\n",
            "remote: Compressing objects: 100% (101/101), done.\u001b[K\n",
            "remote: Total 142 (delta 61), reused 112 (delta 31), pack-reused 0\u001b[K\n",
            "Receiving objects: 100% (142/142), 560.82 KiB | 20.77 MiB/s, done.\n",
            "Resolving deltas: 100% (61/61), done.\n"
          ]
        }
      ]
    },
    {
      "cell_type": "code",
      "metadata": {
        "colab": {
          "base_uri": "https://localhost:8080/",
          "height": 34
        },
        "id": "R6OQtBHl-l7I",
        "outputId": "e331b95c-a6a7-46c2-a1f4-d536f6719426"
      },
      "source": [
        "from google.colab.output import eval_js\n",
        "# import socket\n",
        "\n",
        "print(eval_js(\"google.colab.kernel.proxyPort(3000)\"))\n",
        "# print('https://' + socket.gethostbyname(socket.getfqdn(socket.gethostname())))"
      ],
      "execution_count": 2,
      "outputs": [
        {
          "output_type": "stream",
          "name": "stdout",
          "text": [
            "https://ij9jtwelpnn-496ff2e9c6d22116-3000-colab.googleusercontent.com/\n"
          ]
        }
      ]
    },
    {
      "cell_type": "code",
      "metadata": {
        "id": "woECTyHbaz10"
      },
      "source": [
        "%cd grapesjs-example-react\n",
        "!npm install -g npm\n",
        "!npm i\n",
        "!npm audit fix\n",
        "# !npm audit fix --force\n",
        "!npm install chokidar"
      ],
      "execution_count": null,
      "outputs": []
    },
    {
      "cell_type": "code",
      "metadata": {
        "id": "rjnF13J3lxRm",
        "colab": {
          "base_uri": "https://localhost:8080/"
        },
        "outputId": "4b6b8b01-9521-40f4-d37c-3b8e7ff8f7e0"
      },
      "source": [
        "!npm start"
      ],
      "execution_count": null,
      "outputs": [
        {
          "output_type": "stream",
          "name": "stdout",
          "text": [
            "\n",
            "> react-grapesjs@0.1.0 start\n",
            "> react-scripts start\n",
            "\n",
            "\u001b[34mℹ\u001b[39m \u001b[90m｢wds｣\u001b[39m: Project is running at http://172.28.0.2/\n",
            "\u001b[34mℹ\u001b[39m \u001b[90m｢wds｣\u001b[39m: webpack output is served from \n",
            "\u001b[34mℹ\u001b[39m \u001b[90m｢wds｣\u001b[39m: Content not from webpack is served from /content/grapesjs-example-react/public\n",
            "\u001b[34mℹ\u001b[39m \u001b[90m｢wds｣\u001b[39m: 404s will fallback to /\n",
            "\u001b[2J\u001b[3J\u001b[H\u001b[36mStarting the development server...\u001b[39m\n",
            "\u001b[36m\u001b[39m\n",
            "\u001b[2J\u001b[3J\u001b[H\u001b[33mCompiled with warnings.\u001b[39m\n",
            "\u001b[33m\u001b[39m\n",
            "src/Editor.js\n",
            "  \u001b[1mLine 22:10:\u001b[22m  'editor' is assigned a value but never used                                                                \u001b[33m\u001b[4mno-unused-vars\u001b[24m\u001b[39m\n",
            "  \u001b[1mLine 122:6:\u001b[22m  React Hook useEffect has a missing dependency: 'assets'. Either include it or remove the dependency array  \u001b[33m\u001b[4mreact-hooks/exhaustive-deps\u001b[24m\u001b[39m\n",
            "\n",
            "Search for the \u001b[4m\u001b[33mkeywords\u001b[39m\u001b[24m to learn more about each warning.\n",
            "To ignore, add \u001b[36m// eslint-disable-next-line\u001b[39m to the line before.\n",
            "\n",
            "\u001b[2J\u001b[3J\u001b[HCompiling...\n",
            "\u001b[2J\u001b[3J\u001b[H\u001b[33mCompiled with warnings.\u001b[39m\n",
            "\u001b[33m\u001b[39m\n",
            "src/Editor.js\n",
            "  \u001b[1mLine 22:10:\u001b[22m  'editor' is assigned a value but never used                                                                \u001b[33m\u001b[4mno-unused-vars\u001b[24m\u001b[39m\n",
            "  \u001b[1mLine 122:6:\u001b[22m  React Hook useEffect has a missing dependency: 'assets'. Either include it or remove the dependency array  \u001b[33m\u001b[4mreact-hooks/exhaustive-deps\u001b[24m\u001b[39m\n",
            "\n",
            "Search for the \u001b[4m\u001b[33mkeywords\u001b[39m\u001b[24m to learn more about each warning.\n",
            "To ignore, add \u001b[36m// eslint-disable-next-line\u001b[39m to the line before.\n",
            "\n",
            "\u001b[2J\u001b[3J\u001b[HCompiling...\n",
            "\u001b[2J\u001b[3J\u001b[H\u001b[33mCompiled with warnings.\u001b[39m\n",
            "\u001b[33m\u001b[39m\n",
            "src/Editor.js\n",
            "  \u001b[1mLine 22:10:\u001b[22m  'editor' is assigned a value but never used                                                                \u001b[33m\u001b[4mno-unused-vars\u001b[24m\u001b[39m\n",
            "  \u001b[1mLine 122:6:\u001b[22m  React Hook useEffect has a missing dependency: 'assets'. Either include it or remove the dependency array  \u001b[33m\u001b[4mreact-hooks/exhaustive-deps\u001b[24m\u001b[39m\n",
            "\n",
            "Search for the \u001b[4m\u001b[33mkeywords\u001b[39m\u001b[24m to learn more about each warning.\n",
            "To ignore, add \u001b[36m// eslint-disable-next-line\u001b[39m to the line before.\n",
            "\n",
            "\u001b[2J\u001b[3J\u001b[HCompiling...\n",
            "\u001b[2J\u001b[3J\u001b[H\u001b[33mCompiled with warnings.\u001b[39m\n",
            "\u001b[33m\u001b[39m\n",
            "src/Editor.js\n",
            "  \u001b[1mLine 22:10:\u001b[22m  'editor' is assigned a value but never used                                                                \u001b[33m\u001b[4mno-unused-vars\u001b[24m\u001b[39m\n",
            "  \u001b[1mLine 122:6:\u001b[22m  React Hook useEffect has a missing dependency: 'assets'. Either include it or remove the dependency array  \u001b[33m\u001b[4mreact-hooks/exhaustive-deps\u001b[24m\u001b[39m\n",
            "\n",
            "Search for the \u001b[4m\u001b[33mkeywords\u001b[39m\u001b[24m to learn more about each warning.\n",
            "To ignore, add \u001b[36m// eslint-disable-next-line\u001b[39m to the line before.\n",
            "\n",
            "\u001b[2J\u001b[3J\u001b[HCompiling...\n",
            "\u001b[2J\u001b[3J\u001b[H\u001b[33mCompiled with warnings.\u001b[39m\n",
            "\u001b[33m\u001b[39m\n",
            "src/Editor.js\n",
            "  \u001b[1mLine 22:10:\u001b[22m  'editor' is assigned a value but never used                                                                \u001b[33m\u001b[4mno-unused-vars\u001b[24m\u001b[39m\n",
            "  \u001b[1mLine 122:6:\u001b[22m  React Hook useEffect has a missing dependency: 'assets'. Either include it or remove the dependency array  \u001b[33m\u001b[4mreact-hooks/exhaustive-deps\u001b[24m\u001b[39m\n",
            "\n",
            "Search for the \u001b[4m\u001b[33mkeywords\u001b[39m\u001b[24m to learn more about each warning.\n",
            "To ignore, add \u001b[36m// eslint-disable-next-line\u001b[39m to the line before.\n",
            "\n",
            "\u001b[2J\u001b[3J\u001b[HCompiling...\n",
            "\u001b[2J\u001b[3J\u001b[H\u001b[33mCompiled with warnings.\u001b[39m\n",
            "\u001b[33m\u001b[39m\n",
            "src/Editor.js\n",
            "  \u001b[1mLine 22:10:\u001b[22m  'editor' is assigned a value but never used                                                                \u001b[33m\u001b[4mno-unused-vars\u001b[24m\u001b[39m\n",
            "  \u001b[1mLine 122:6:\u001b[22m  React Hook useEffect has a missing dependency: 'assets'. Either include it or remove the dependency array  \u001b[33m\u001b[4mreact-hooks/exhaustive-deps\u001b[24m\u001b[39m\n",
            "\n",
            "Search for the \u001b[4m\u001b[33mkeywords\u001b[39m\u001b[24m to learn more about each warning.\n",
            "To ignore, add \u001b[36m// eslint-disable-next-line\u001b[39m to the line before.\n",
            "\n",
            "\u001b[2J\u001b[3J\u001b[HCompiling...\n",
            "\u001b[2J\u001b[3J\u001b[H\u001b[33mCompiled with warnings.\u001b[39m\n",
            "\u001b[33m\u001b[39m\n",
            "src/Editor.js\n",
            "  \u001b[1mLine 22:10:\u001b[22m  'editor' is assigned a value but never used                                                                \u001b[33m\u001b[4mno-unused-vars\u001b[24m\u001b[39m\n",
            "  \u001b[1mLine 122:6:\u001b[22m  React Hook useEffect has a missing dependency: 'assets'. Either include it or remove the dependency array  \u001b[33m\u001b[4mreact-hooks/exhaustive-deps\u001b[24m\u001b[39m\n",
            "\n",
            "Search for the \u001b[4m\u001b[33mkeywords\u001b[39m\u001b[24m to learn more about each warning.\n",
            "To ignore, add \u001b[36m// eslint-disable-next-line\u001b[39m to the line before.\n",
            "\n",
            "\u001b[2J\u001b[3J\u001b[HCompiling...\n",
            "\u001b[2J\u001b[3J\u001b[H\u001b[33mCompiled with warnings.\u001b[39m\n",
            "\u001b[33m\u001b[39m\n",
            "src/Editor.js\n",
            "  \u001b[1mLine 22:10:\u001b[22m  'editor' is assigned a value but never used                                                                \u001b[33m\u001b[4mno-unused-vars\u001b[24m\u001b[39m\n",
            "  \u001b[1mLine 122:6:\u001b[22m  React Hook useEffect has a missing dependency: 'assets'. Either include it or remove the dependency array  \u001b[33m\u001b[4mreact-hooks/exhaustive-deps\u001b[24m\u001b[39m\n",
            "\n",
            "Search for the \u001b[4m\u001b[33mkeywords\u001b[39m\u001b[24m to learn more about each warning.\n",
            "To ignore, add \u001b[36m// eslint-disable-next-line\u001b[39m to the line before.\n",
            "\n"
          ]
        }
      ]
    }
  ]
}