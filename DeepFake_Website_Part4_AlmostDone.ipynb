{
  "nbformat": 4,
  "nbformat_minor": 0,
  "metadata": {
    "colab": {
      "name": "DeepFake Website Part4 AlmostDone",
      "provenance": [],
      "collapsed_sections": [],
      "authorship_tag": "ABX9TyMJCRYzygYuVwoFen00wMCG",
      "include_colab_link": true
    },
    "kernelspec": {
      "name": "python3",
      "display_name": "Python 3"
    },
    "accelerator": "GPU"
  },
  "cells": [
    {
      "cell_type": "markdown",
      "metadata": {
        "id": "view-in-github",
        "colab_type": "text"
      },
      "source": [
        "<a href=\"https://colab.research.google.com/github/techwithanirudh/Shared/blob/master/DeepFake_Website_Part4_AlmostDone.ipynb\" target=\"_parent\"><img src=\"https://colab.research.google.com/assets/colab-badge.svg\" alt=\"Open In Colab\"/></a>"
      ]
    },
    {
      "cell_type": "code",
      "metadata": {
        "id": "h8Kp-upAB7Ha"
      },
      "source": [
        "import os\r\n",
        "\r\n",
        "os.mkdir('/content/DeepFake')\r\n",
        "os.mkdir('/content/DeepFake/templates')\r\n",
        "os.chdir('/content/DeepFake')"
      ],
      "execution_count": 1,
      "outputs": []
    },
    {
      "cell_type": "code",
      "metadata": {
        "id": "13ZbY83pEg_l",
        "colab": {
          "base_uri": "https://localhost:8080/"
        },
        "outputId": "7e4fcd0d-e07c-4b94-991f-e138bc0f5618"
      },
      "source": [
        "!pip install flask_ngrok flask_cors"
      ],
      "execution_count": 2,
      "outputs": [
        {
          "output_type": "stream",
          "text": [
            "Collecting flask_ngrok\n",
            "  Downloading https://files.pythonhosted.org/packages/af/6c/f54cb686ad1129e27d125d182f90f52b32f284e6c8df58c1bae54fa1adbc/flask_ngrok-0.0.25-py3-none-any.whl\n",
            "Collecting flask_cors\n",
            "  Downloading https://files.pythonhosted.org/packages/db/84/901e700de86604b1c4ef4b57110d4e947c218b9997adf5d38fa7da493bce/Flask_Cors-3.0.10-py2.py3-none-any.whl\n",
            "Requirement already satisfied: requests in /usr/local/lib/python3.7/dist-packages (from flask_ngrok) (2.23.0)\n",
            "Requirement already satisfied: Flask>=0.8 in /usr/local/lib/python3.7/dist-packages (from flask_ngrok) (1.1.2)\n",
            "Requirement already satisfied: Six in /usr/local/lib/python3.7/dist-packages (from flask_cors) (1.15.0)\n",
            "Requirement already satisfied: certifi>=2017.4.17 in /usr/local/lib/python3.7/dist-packages (from requests->flask_ngrok) (2020.12.5)\n",
            "Requirement already satisfied: idna<3,>=2.5 in /usr/local/lib/python3.7/dist-packages (from requests->flask_ngrok) (2.10)\n",
            "Requirement already satisfied: chardet<4,>=3.0.2 in /usr/local/lib/python3.7/dist-packages (from requests->flask_ngrok) (3.0.4)\n",
            "Requirement already satisfied: urllib3!=1.25.0,!=1.25.1,<1.26,>=1.21.1 in /usr/local/lib/python3.7/dist-packages (from requests->flask_ngrok) (1.24.3)\n",
            "Requirement already satisfied: click>=5.1 in /usr/local/lib/python3.7/dist-packages (from Flask>=0.8->flask_ngrok) (7.1.2)\n",
            "Requirement already satisfied: Werkzeug>=0.15 in /usr/local/lib/python3.7/dist-packages (from Flask>=0.8->flask_ngrok) (1.0.1)\n",
            "Requirement already satisfied: itsdangerous>=0.24 in /usr/local/lib/python3.7/dist-packages (from Flask>=0.8->flask_ngrok) (1.1.0)\n",
            "Requirement already satisfied: Jinja2>=2.10.1 in /usr/local/lib/python3.7/dist-packages (from Flask>=0.8->flask_ngrok) (2.11.3)\n",
            "Requirement already satisfied: MarkupSafe>=0.23 in /usr/local/lib/python3.7/dist-packages (from Jinja2>=2.10.1->Flask>=0.8->flask_ngrok) (1.1.1)\n",
            "Installing collected packages: flask-ngrok, flask-cors\n",
            "Successfully installed flask-cors-3.0.10 flask-ngrok-0.0.25\n"
          ],
          "name": "stdout"
        }
      ]
    },
    {
      "cell_type": "code",
      "metadata": {
        "id": "tfrUMpWNE1Fc",
        "colab": {
          "base_uri": "https://localhost:8080/"
        },
        "outputId": "f4bde157-1ab6-40e1-883c-1977db13ffbe"
      },
      "source": [
        "!git clone https://github.com/AliaksandrSiarohin/first-order-model\r\n",
        "!cd first-order-model"
      ],
      "execution_count": 3,
      "outputs": [
        {
          "output_type": "stream",
          "text": [
            "Cloning into 'first-order-model'...\n",
            "remote: Enumerating objects: 256, done.\u001b[K\n",
            "remote: Total 256 (delta 0), reused 0 (delta 0), pack-reused 256\u001b[K\n",
            "Receiving objects: 100% (256/256), 72.13 MiB | 23.17 MiB/s, done.\n",
            "Resolving deltas: 100% (128/128), done.\n"
          ],
          "name": "stdout"
        }
      ]
    },
    {
      "cell_type": "code",
      "metadata": {
        "id": "ow4fC3MPE4sG",
        "colab": {
          "base_uri": "https://localhost:8080/"
        },
        "outputId": "da2305d4-00c9-49e4-9511-d61a57901aae"
      },
      "source": [
        "from google.colab import drive\r\n",
        "drive.mount('/content/DeepFake/gdrive')"
      ],
      "execution_count": 4,
      "outputs": [
        {
          "output_type": "stream",
          "text": [
            "Mounted at /content/DeepFake/gdrive\n"
          ],
          "name": "stdout"
        }
      ]
    },
    {
      "cell_type": "code",
      "metadata": {
        "id": "3G_eImA3EAJK"
      },
      "source": [
        "# os.chdir('/content/gdrive/MyDrive')\r\n",
        "# !unzip first-order-motion-model.zip\r\n",
        "os.chdir('/content/DeepFake/first-order-model')"
      ],
      "execution_count": 5,
      "outputs": []
    },
    {
      "cell_type": "markdown",
      "metadata": {
        "id": "nqTdkJuDAYm6"
      },
      "source": [
        "**Add folder https://drive.google.com/drive/folders/1kZ1gCnpfU0BnpdU47pLM_TQ6RypDDqgw?usp=sharing  to your google drive.\r\n",
        "Alternativelly you can use this mirror link https://drive.google.com/drive/folders/16inDpBRPT1UC0YMGMX3dKvRnOUsf5Dhn?usp=sharing**\r\n",
        "\r\n",
        "Or download the zip to your computer and put it to your drive, then mount the drive"
      ]
    },
    {
      "cell_type": "code",
      "metadata": {
        "id": "z_D9_iguAPER"
      },
      "source": [
        "import imageio\r\n",
        "import numpy as np\r\n",
        "import matplotlib.pyplot as plt\r\n",
        "import matplotlib.animation as animation\r\n",
        "from skimage.transform import resize\r\n",
        "from IPython.display import HTML, Image\r\n",
        "from IPython.display import display as display_ipy\r\n",
        "import warnings\r\n",
        "warnings.filterwarnings(\"ignore\")\r\n",
        "\r\n",
        "def display(source, driving, generated=None):\r\n",
        "    fig = plt.figure(figsize=(8 + 4 * (generated is not None), 6))\r\n",
        "\r\n",
        "    ims = []\r\n",
        "    for i in range(len(driving)):\r\n",
        "        cols = [source]\r\n",
        "        cols.append(driving[i])\r\n",
        "        if generated is not None:\r\n",
        "            cols.append(generated[i])\r\n",
        "        im = plt.imshow(np.concatenate(cols, axis=1), animated=True)\r\n",
        "        plt.axis('off')\r\n",
        "        ims.append([im])\r\n",
        "\r\n",
        "    ani = animation.ArtistAnimation(fig, ims, interval=50, repeat_delay=1000)\r\n",
        "    plt.close()\r\n",
        "    return ani"
      ],
      "execution_count": 6,
      "outputs": []
    },
    {
      "cell_type": "code",
      "metadata": {
        "id": "JFR0nitLAgnz"
      },
      "source": [
        "from demo import load_checkpoints\r\n",
        "from demo import make_animation\r\n",
        "from skimage import img_as_ubyte\r\n",
        "\r\n",
        "generator, kp_detector = load_checkpoints(config_path='config/vox-256.yaml', \r\n",
        "                                          checkpoint_path='/content/DeepFake/gdrive/My Drive/first-order-motion-model/vox-cpk.pth.tar')"
      ],
      "execution_count": 8,
      "outputs": []
    },
    {
      "cell_type": "code",
      "metadata": {
        "id": "ohdQIze7iNj3"
      },
      "source": [
        "with open('/content/DeepFake/templates/index.html', 'w') as f:\r\n",
        "  f.write('''\r\n",
        "<!DOCTYPE html>\r\n",
        "<html lang=\"en\">\r\n",
        "<head>\r\n",
        "    <meta charset=\"UTF-8\">\r\n",
        "    <meta name=\"viewport\" content=\"width=device-width, initial-scale=1.0\">\r\n",
        "    <script src=\"https://ajax.googleapis.com/ajax/libs/jquery/3.5.1/jquery.min.js\"></script>\r\n",
        "    <title>Upload Files</title>\r\n",
        "    <style>\r\n",
        "        body{\r\n",
        "          background: rgba(0,0,0,0.9);\r\n",
        "        }\r\n",
        "        form{\r\n",
        "          position: absolute;\r\n",
        "          top: 50%;\r\n",
        "          left: 50%;\r\n",
        "          margin-top: -100px;\r\n",
        "          margin-left: -250px;\r\n",
        "          width: 500px;\r\n",
        "          height: 200px;\r\n",
        "          border: 4px dashed #fff;\r\n",
        "        }\r\n",
        "        form p{\r\n",
        "          width: 100%;\r\n",
        "          height: 100%;\r\n",
        "          text-align: center;\r\n",
        "          line-height: 170px;\r\n",
        "          color: #ffffff;\r\n",
        "          font-family: Arial;\r\n",
        "        }\r\n",
        "        form input{\r\n",
        "          position: absolute;\r\n",
        "          margin: 0;\r\n",
        "          padding: 0;\r\n",
        "          width: 100%;\r\n",
        "          height: 100%;\r\n",
        "          outline: none;\r\n",
        "          opacity: 0;\r\n",
        "        }\r\n",
        "        form button{\r\n",
        "          margin: 0;\r\n",
        "          color: #fff;\r\n",
        "          background: #16a085;\r\n",
        "          border: none;\r\n",
        "          width: 508px;\r\n",
        "          height: 35px;\r\n",
        "          margin-top: -20px;\r\n",
        "          margin-left: -4px;\r\n",
        "          border-radius: 4px;\r\n",
        "          border-bottom: 4px solid #117A60;\r\n",
        "          transition: all .2s ease;\r\n",
        "          outline: none;\r\n",
        "        }\r\n",
        "        form button:hover{\r\n",
        "          background: #149174;\r\n",
        "        \tcolor: #0C5645;\r\n",
        "        }\r\n",
        "        form button:active{\r\n",
        "          border:0;\r\n",
        "        }\r\n",
        "    </style>\r\n",
        "</head>\r\n",
        "<body>\r\n",
        "    <form action=\"/upload\" method=\"POST\" enctype=\"multipart/form-data\">\r\n",
        "        <input type=\"file\" name=\"file\" multiple>\r\n",
        "        <p>Drag your files here or click in this area.</p>\r\n",
        "        <button type=\"submit\">Upload</button>\r\n",
        "    </form>\r\n",
        "\r\n",
        "    <script>\r\n",
        "        $(document).ready(function(){\r\n",
        "          $('form input').change(function () {\r\n",
        "            $('form p').text(this.files.length + \" file(s) selected\");\r\n",
        "          });\r\n",
        "        });\r\n",
        "    </script>\r\n",
        "</body>\r\n",
        "</html>\r\n",
        "  ''')\r\n",
        "f.close()"
      ],
      "execution_count": 9,
      "outputs": []
    },
    {
      "cell_type": "code",
      "metadata": {
        "id": "jPYnb-BtiVcu"
      },
      "source": [
        "with open('/content/DeepFake/templates/progress.html', 'w') as f:\r\n",
        "  f.write('''\r\n",
        "\r\n",
        "<!DOCTYPE html>\r\n",
        "<html lang=\"en\">\r\n",
        "<head>\r\n",
        "    <meta charset=\"UTF-8\">\r\n",
        "    <meta name=\"viewport\" content=\"width=device-width, initial-scale=1.0\">\r\n",
        "    <title>Progress</title>\r\n",
        "    <style>\r\n",
        "        body{\r\n",
        "          background: rgba(0,0,0,0.9);\r\n",
        "        }\r\n",
        "        .progress-line, .progress-line:before {\r\n",
        "          height: 20px;\r\n",
        "          width: 100%;\r\n",
        "          margin: 0;    \r\n",
        "        }\r\n",
        "        .progress-line {\r\n",
        "          background-color: #b3d4fc;\r\n",
        "          display: -webkit-flex;\r\n",
        "          display: flex;\r\n",
        "        }\r\n",
        "        .progress-line:before {\r\n",
        "          background-color: #3f51b5;\r\n",
        "          content: '';\r\n",
        "          -webkit-animation: running-progress 2s cubic-bezier(0.4, 0, 0.2, 1) infinite;\r\n",
        "          animation: running-progress 2s cubic-bezier(0.4, 0, 0.2, 1) infinite;\r\n",
        "        }\r\n",
        "        @-webkit-keyframes running-progress {\r\n",
        "          0% { margin-left: 0px; margin-right: 100%; }\r\n",
        "          50% { margin-left: 25%; margin-right: 0%; }\r\n",
        "          100% { margin-left: 100%; margin-right: 0; }\r\n",
        "        }\r\n",
        "        @keyframes running-progress {\r\n",
        "          0% { margin-left: 0px; margin-right: 100%; }\r\n",
        "          50% { margin-left: 25%; margin-right: 0%; }\r\n",
        "          100% { margin-left: 100%; margin-right: 0; }\r\n",
        "        }\r\n",
        "    </style>\r\n",
        "</head>\r\n",
        "<body>\r\n",
        "    <div class=\"main\">\r\n",
        "      <h2 style=\"color: white;\">Creating DeepFake</h2>\r\n",
        "      <div class=\"progress-line\"></div>\r\n",
        "    <div>\r\n",
        "    <script>\r\n",
        "      document.location.href = '/convertDf';\r\n",
        "    </script>\r\n",
        "</body>\r\n",
        "</html>\r\n",
        "  ''')\r\n",
        "f.close()"
      ],
      "execution_count": 10,
      "outputs": []
    },
    {
      "cell_type": "code",
      "metadata": {
        "id": "weFyNBBiodTg"
      },
      "source": [
        "with open('/content/DeepFake/templates/jsCheck.html', 'w') as f:\r\n",
        "  f.write('''\r\n",
        "<!DOCTYPE html>\r\n",
        "<html lang=\"en\">\r\n",
        "<head>\r\n",
        "    <meta charset=\"UTF-8\">\r\n",
        "    <meta name=\"viewport\" content=\"width=device-width, initial-scale=1.0\">\r\n",
        "    <title>JsCheck</title>\r\n",
        "</head>\r\n",
        "<body>\r\n",
        "    <noscript>\r\n",
        "        <div class=\"noscriptmsg\">\r\n",
        "            <h1>\r\n",
        "                JavaScript must be enabled in order for you to use This website. However, it seems JavaScript is either disabled or not supported by your browser. \r\n",
        "                To use continue to this website, enable JavaScript by changing your browser options, then try again.\r\n",
        "            </h1>\r\n",
        "        </div>\r\n",
        "    </noscript>\r\n",
        "    <script>\r\n",
        "        document.location.href = '/main'\r\n",
        "    </script>\r\n",
        "</body>\r\n",
        "</html>\r\n",
        "  ''')\r\n",
        "f.close()"
      ],
      "execution_count": 11,
      "outputs": []
    },
    {
      "cell_type": "code",
      "metadata": {
        "id": "4XRESde4GLpK"
      },
      "source": [
        "reader = imageio.get_reader('/content/DeepFake/gdrive/My Drive/first-order-motion-model/04.mp4')\r\n",
        "fps = reader.get_meta_data()['fps']"
      ],
      "execution_count": 16,
      "outputs": []
    },
    {
      "cell_type": "code",
      "metadata": {
        "id": "gS_gX4UoFU6e"
      },
      "source": [
        "from flask import *\r\n",
        "from flask_ngrok import run_with_ngrok\r\n",
        "from flask_cors import CORS\r\n",
        "from werkzeug.utils import secure_filename\r\n",
        "import time, requests\r\n",
        "\r\n",
        "app = Flask(__name__, root_path='/content/DeepFake')\r\n",
        "CORS(app)\r\n",
        "run_with_ngrok(app)\r\n",
        "\r\n",
        "@app.route('/')\r\n",
        "def ip_get():\r\n",
        "  global jsonIp\r\n",
        "  if request.environ.get('HTTP_X_FORWARDED_FOR') is None:\r\n",
        "    jsonIp = {'ip': request.environ['REMOTE_ADDR']}\r\n",
        "  else:\r\n",
        "    jsonIp = {'ip': request.environ['HTTP_X_FORWARDED_FOR']}\r\n",
        "\r\n",
        "  print(jsonIp)\r\n",
        "  return redirect('/jsCheck')\r\n",
        "\r\n",
        "@app.route('/jsCheck')\r\n",
        "def jsCheck():\r\n",
        "  return render_template('jsCheck.html')\r\n",
        "\r\n",
        "@app.route('/main')\r\n",
        "def main():\r\n",
        "  return render_template('index.html')\r\n",
        "\r\n",
        "@app.route('/upload', methods=['POST'])\r\n",
        "def upload():\r\n",
        "  f = request.files['file']\r\n",
        "  f.save('/content/DeepFake/face.png')\r\n",
        "  return render_template('progress.html')\r\n",
        "\r\n",
        "@app.route('/convertDf', methods=['GET', 'POST'])\r\n",
        "def deepFake():\r\n",
        "  source_image = imageio.imread('/content/DeepFake/face.png')\r\n",
        "  driving_video = imageio.mimread('/content/DeepFake/gdrive/My Drive/first-order-motion-model/10.mp4', memtest=False)\r\n",
        "\r\n",
        "  #Resize image and video to 256x256\r\n",
        "\r\n",
        "  source_image = resize(source_image, (256, 256))[..., :3]\r\n",
        "  driving_video = [resize(frame, (256, 256))[..., :3] for frame in driving_video]\r\n",
        "\r\n",
        "  predictions = make_animation(source_image, driving_video, generator, kp_detector, relative=True,\r\n",
        "                               adapt_movement_scale=True)\r\n",
        "\r\n",
        "  imageio.mimsave('/content/DeepFake/generated.mp4', [img_as_ubyte(frame) for frame in predictions], fps=fps)\r\n",
        "  return send_file('/content/DeepFake/generated.mp4', mimetype='video/mp4')\r\n",
        "\r\n",
        "app.run()"
      ],
      "execution_count": null,
      "outputs": []
    },
    {
      "cell_type": "code",
      "metadata": {
        "colab": {
          "base_uri": "https://localhost:8080/"
        },
        "id": "7pC85U-lFYMl",
        "outputId": "0d655591-aad5-4021-f3a9-73db0be6c2da"
      },
      "source": [
        "!hostname -I\r\n",
        "import shutil\r\n",
        "\r\n",
        "shutil.rmtree('/content/DeepFake')"
      ],
      "execution_count": 5,
      "outputs": [
        {
          "output_type": "stream",
          "text": [
            "172.28.0.2 \n"
          ],
          "name": "stdout"
        }
      ]
    }
  ]
}