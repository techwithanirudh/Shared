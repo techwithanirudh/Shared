{
  "nbformat": 4,
  "nbformat_minor": 0,
  "metadata": {
    "colab": {
      "name": "Encrypter-Decrypter",
      "provenance": [],
      "collapsed_sections": [],
      "authorship_tag": "ABX9TyOcnIJhZftdd2zUfen2KeRh",
      "include_colab_link": true
    },
    "kernelspec": {
      "name": "python3",
      "display_name": "Python 3"
    },
    "language_info": {
      "name": "python"
    }
  },
  "cells": [
    {
      "cell_type": "markdown",
      "metadata": {
        "id": "view-in-github",
        "colab_type": "text"
      },
      "source": [
        "<a href=\"https://colab.research.google.com/github/techwithanirudh/Shared/blob/master/Encrypter_Decrypter.ipynb\" target=\"_parent\"><img src=\"https://colab.research.google.com/assets/colab-badge.svg\" alt=\"Open In Colab\"/></a>"
      ]
    },
    {
      "cell_type": "code",
      "metadata": {
        "id": "B3nNg72eWLZb"
      },
      "source": [
        "import os, glob\n",
        "import pyAesCrypt\n",
        "\n",
        "print('1. Encrypt\\n2. Decrypt')\n",
        "\n",
        "password = 'tst'\n",
        "bufferSize = 64 * 1024\n",
        "opt = not int(input()) - 1\n",
        "\n",
        "print('\\n\\n')\n",
        "\n",
        "def encrypt(file):\n",
        "  pyAesCrypt.encryptFile(file, file + '.aes', password, bufferSize)\n",
        "  os.remove(file)\n",
        "\n",
        "def decrypt(file, pSeQ=''):\n",
        "  file += pSeQ\n",
        "  pyAesCrypt.decryptFile(file, file.split('.aes')[0], password, \n",
        "  bufferSize)\n",
        "  if not file.endswith('.tmp'):\n",
        "    os.rename(file, file + '.tmp')\n",
        "\n",
        "def removeTmp():\n",
        "  for file in glob.glob('./**/*.*', recursive=True):\n",
        "    if file.endswith('.aes.tmp'):\n",
        "      os.remove(file)\n",
        "\n",
        "def err():\n",
        "  print('\\nTrying to decrypt again!')\n",
        "  for path in glob.glob('./**/*.*', recursive=True):\n",
        "    if os.path.isdir(path):\n",
        "      continue\n",
        "\n",
        "    if '__pycache__' in path:\n",
        "      continue\n",
        "\n",
        "    print(path)\n",
        "\n",
        "    try:\n",
        "      decrypt(path, pSeQ='.tmp')\n",
        "    except Exception as e:\n",
        "      print(e)\n",
        "\n",
        "  end()\n",
        "\n",
        "def end():\n",
        "  fin = ['Decrypting', 'Encrypting']\n",
        "  print(f'Done! Finished {fin[opt]}!', end=' ')\n",
        "\n",
        "  if not opt:\n",
        "    dct = input('Check if your files are decrypted correctly...   (Y/N) ').lower()\n",
        "\n",
        "    if dct == 'y': removeTmp()\n",
        "    if dct == 'n': err()\n",
        "\n",
        "  print('\\n')\n",
        "\n",
        "os.chdir('Main')\n",
        "for path in glob.glob('./**/*.*', recursive=True):\n",
        "  if os.path.isdir(path):\n",
        "    continue\n",
        "\n",
        "  if '__pycache__' in path:\n",
        "    continue\n",
        "\n",
        "  print(path)\n",
        "\n",
        "  if opt:\n",
        "    encrypt(path)\n",
        "  else:\n",
        "    try:\n",
        "      decrypt(path)\n",
        "    except Exception as e:\n",
        "      print(e)\n",
        "\n",
        "end()"
      ],
      "execution_count": null,
      "outputs": []
    }
  ]
}