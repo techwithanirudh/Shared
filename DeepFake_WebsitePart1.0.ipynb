{
  "nbformat": 4,
  "nbformat_minor": 0,
  "metadata": {
    "colab": {
      "name": "DeepFake Website",
      "provenance": [],
      "authorship_tag": "ABX9TyPszjY+xAMW1HwRliDrNPnp",
      "include_colab_link": true
    },
    "kernelspec": {
      "name": "python3",
      "display_name": "Python 3"
    }
  },
  "cells": [
    {
      "cell_type": "markdown",
      "metadata": {
        "id": "view-in-github",
        "colab_type": "text"
      },
      "source": [
        "<a href=\"https://colab.research.google.com/github/techwithanirudh/Shared/blob/master/DeepFake_WebsitePart1.0.ipynb\" target=\"_parent\"><img src=\"https://colab.research.google.com/assets/colab-badge.svg\" alt=\"Open In Colab\"/></a>"
      ]
    },
    {
      "cell_type": "code",
      "metadata": {
        "id": "13ZbY83pEg_l"
      },
      "source": [
        "!pip install flask_ngrok flask_cors"
      ],
      "execution_count": null,
      "outputs": []
    },
    {
      "cell_type": "code",
      "metadata": {
        "colab": {
          "base_uri": "https://localhost:8080/"
        },
        "id": "tfrUMpWNE1Fc",
        "outputId": "c9fa03d8-cc04-4c2b-c534-793f3f0ca620"
      },
      "source": [
        "!git clone https://github.com/AliaksandrSiarohin/first-order-model\r\n",
        "!cd first-order-model"
      ],
      "execution_count": 2,
      "outputs": [
        {
          "output_type": "stream",
          "text": [
            "Cloning into 'first-order-model'...\n",
            "remote: Enumerating objects: 256, done.\u001b[K\n",
            "remote: Total 256 (delta 0), reused 0 (delta 0), pack-reused 256\u001b[K\n",
            "Receiving objects: 100% (256/256), 72.13 MiB | 32.39 MiB/s, done.\n",
            "Resolving deltas: 100% (128/128), done.\n"
          ],
          "name": "stdout"
        }
      ]
    },
    {
      "cell_type": "code",
      "metadata": {
        "id": "ow4fC3MPE4sG"
      },
      "source": [
        "from google.colab import drive\r\n",
        "drive.mount('/content/gdrive')"
      ],
      "execution_count": null,
      "outputs": []
    },
    {
      "cell_type": "code",
      "metadata": {
        "id": "crw0z5zsE8iV"
      },
      "source": [
        "import os\r\n",
        "\r\n",
        "# os.chdir('/content/gdrive/MyDrive')\r\n",
        "# !unzip first-order-motion-model.zip\r\n",
        "os.chdir('/content/first-order-model')"
      ],
      "execution_count": 3,
      "outputs": []
    },
    {
      "cell_type": "code",
      "metadata": {
        "id": "UCfaoHksQ70d"
      },
      "source": [
        "os.mkdir('/content/templates')\r\n",
        "os.chdir('/content/templates')"
      ],
      "execution_count": 4,
      "outputs": []
    },
    {
      "cell_type": "code",
      "metadata": {
        "id": "ohdQIze7iNj3"
      },
      "source": [
        "with open('index.html', 'w') as f:\r\n",
        "  f.write('''\r\n",
        "<!DOCTYPE html>\r\n",
        "<html lang=\"en\">\r\n",
        "<head>\r\n",
        "    <meta charset=\"UTF-8\">\r\n",
        "    <meta name=\"viewport\" content=\"width=device-width, initial-scale=1.0\">\r\n",
        "    <script src=\"https://ajax.googleapis.com/ajax/libs/jquery/3.5.1/jquery.min.js\"></script>\r\n",
        "    <title>Document</title>\r\n",
        "    <style>\r\n",
        "        body{\r\n",
        "          background: rgba(0,0,0,0.9);\r\n",
        "        }\r\n",
        "        form{\r\n",
        "          position: absolute;\r\n",
        "          top: 50%;\r\n",
        "          left: 50%;\r\n",
        "          margin-top: -100px;\r\n",
        "          margin-left: -250px;\r\n",
        "          width: 500px;\r\n",
        "          height: 200px;\r\n",
        "          border: 4px dashed #fff;\r\n",
        "        }\r\n",
        "        form p{\r\n",
        "          width: 100%;\r\n",
        "          height: 100%;\r\n",
        "          text-align: center;\r\n",
        "          line-height: 170px;\r\n",
        "          color: #ffffff;\r\n",
        "          font-family: Arial;\r\n",
        "        }\r\n",
        "        form input{\r\n",
        "          position: absolute;\r\n",
        "          margin: 0;\r\n",
        "          padding: 0;\r\n",
        "          width: 100%;\r\n",
        "          height: 100%;\r\n",
        "          outline: none;\r\n",
        "          opacity: 0;\r\n",
        "        }\r\n",
        "        form button{\r\n",
        "          margin: 0;\r\n",
        "          color: #fff;\r\n",
        "          background: #16a085;\r\n",
        "          border: none;\r\n",
        "          width: 508px;\r\n",
        "          height: 35px;\r\n",
        "          margin-top: -20px;\r\n",
        "          margin-left: -4px;\r\n",
        "          border-radius: 4px;\r\n",
        "          border-bottom: 4px solid #117A60;\r\n",
        "          transition: all .2s ease;\r\n",
        "          outline: none;\r\n",
        "        }\r\n",
        "        form button:hover{\r\n",
        "          background: #149174;\r\n",
        "        \tcolor: #0C5645;\r\n",
        "        }\r\n",
        "        form button:active{\r\n",
        "          border:0;\r\n",
        "        }\r\n",
        "    </style>\r\n",
        "</head>\r\n",
        "<body>\r\n",
        "    <form action=\"/upload\" method=\"POST\" enctype=\"multipart/form-data\">\r\n",
        "        <input type=\"file\" name=\"file\" multiple>\r\n",
        "        <p>Drag your files here or click in this area.</p>\r\n",
        "        <button type=\"submit\">Upload</button>\r\n",
        "    </form>\r\n",
        "\r\n",
        "    <script>\r\n",
        "        $(document).ready(function(){\r\n",
        "          $('form input').change(function () {\r\n",
        "            $('form p').text(this.files.length + \" file(s) selected\");\r\n",
        "          });\r\n",
        "        });\r\n",
        "    </script>\r\n",
        "</body>\r\n",
        "</html>\r\n",
        "  ''')\r\n",
        "f.close()"
      ],
      "execution_count": 5,
      "outputs": []
    },
    {
      "cell_type": "code",
      "metadata": {
        "id": "jPYnb-BtiVcu"
      },
      "source": [
        "with open('progress.html', 'w') as f:\r\n",
        "  f.write('''\r\n",
        "<!DOCTYPE html>\r\n",
        "<html lang=\"en\">\r\n",
        "<head>\r\n",
        "    <meta charset=\"UTF-8\">\r\n",
        "    <meta name=\"viewport\" content=\"width=device-width, initial-scale=1.0\">\r\n",
        "    <link rel=\"stylesheet\" href=\"https://www.w3schools.com/w3css/4/w3.css\">\r\n",
        "    <title>Document</title>\r\n",
        "    <style>\r\n",
        "        body{\r\n",
        "          background: rgba(0,0,0,0.9);\r\n",
        "        }\r\n",
        "    </style>\r\n",
        "</head>\r\n",
        "<body>\r\n",
        "    <form action=\"/progress/{{ prg }}\" method=\"POST\">\r\n",
        "        <div class=\"w3-container\">\r\n",
        "            <h2 style=\"color: white;\">Creating DeepFake</h2>\r\n",
        "            <p style=\"color: white;\">Progress:</p>\r\n",
        "\r\n",
        "            <div class=\"w3-light-grey\">\r\n",
        "              <div id=\"prgsBr\" name=\"prgsBr\" class=\"w3-container w3-green w3-center\" style=\"width:{{ prg }}%\">{{ prg }}%</div>\r\n",
        "            </div>\r\n",
        "            <input id=\"updatePrg\" type=\"submit\" style=\"display: none;\">\r\n",
        "        </div>\r\n",
        "    </form>\r\n",
        "\r\n",
        "    <script>\r\n",
        "      document.getElementById('updatePrg').click()\r\n",
        "    </script>\r\n",
        "</body>\r\n",
        "</html>\r\n",
        "  ''')\r\n",
        "f.close()"
      ],
      "execution_count": 6,
      "outputs": []
    },
    {
      "cell_type": "code",
      "metadata": {
        "colab": {
          "base_uri": "https://localhost:8080/"
        },
        "id": "gS_gX4UoFU6e",
        "outputId": "9866347d-8254-41e3-a84b-fe5b9e9d7d7c"
      },
      "source": [
        "from flask import *\r\n",
        "from flask_ngrok import run_with_ngrok\r\n",
        "from flask_cors import CORS\r\n",
        "from werkzeug.utils import secure_filename\r\n",
        "import time\r\n",
        "\r\n",
        "app = Flask(__name__, root_path='/content/')\r\n",
        "CORS(app)\r\n",
        "run_with_ngrok(app)\r\n",
        "\r\n",
        "@app.route('/')\r\n",
        "def ip_get():\r\n",
        "  if request.environ.get('HTTP_X_FORWARDED_FOR') is None:\r\n",
        "    jsonIp = {'ip': request.environ['REMOTE_ADDR']}\r\n",
        "  else:\r\n",
        "    jsonIp = {'ip': request.environ['HTTP_X_FORWARDED_FOR']}\r\n",
        "\r\n",
        "  print(jsonIp)\r\n",
        "  return redirect('/main')\r\n",
        "\r\n",
        "@app.route('/main')\r\n",
        "def main():\r\n",
        "  return render_template('index.html')\r\n",
        "\r\n",
        "@app.route('/upload', methods=['POST'])\r\n",
        "def upload():\r\n",
        "  f = request.files['file']\r\n",
        "  f.save(secure_filename(f.filename))\r\n",
        "  return redirect('/progress/0')\r\n",
        "\r\n",
        "@app.route('/progress/<prg>', methods=['GET', 'POST'])\r\n",
        "def progress(prg):\r\n",
        "  prg = int(prg)\r\n",
        "  prg += 1\r\n",
        "  time.sleep(2)\r\n",
        "  return render_template('progress.html', prg=prg)\r\n",
        "\r\n",
        "app.run()"
      ],
      "execution_count": null,
      "outputs": [
        {
          "output_type": "stream",
          "text": [
            " * Serving Flask app \"__main__\" (lazy loading)\n",
            " * Environment: production\n",
            "\u001b[31m   WARNING: This is a development server. Do not use it in a production deployment.\u001b[0m\n",
            "\u001b[2m   Use a production WSGI server instead.\u001b[0m\n",
            " * Debug mode: off\n"
          ],
          "name": "stdout"
        },
        {
          "output_type": "stream",
          "text": [
            " * Running on http://127.0.0.1:5000/ (Press CTRL+C to quit)\n"
          ],
          "name": "stderr"
        },
        {
          "output_type": "stream",
          "text": [
            " * Running on http://c815906a1d59.ngrok.io\n",
            " * Traffic stats available on http://127.0.0.1:4040\n"
          ],
          "name": "stdout"
        },
        {
          "output_type": "stream",
          "text": [
            "127.0.0.1 - - [16/Mar/2021 16:03:02] \"\u001b[32mGET / HTTP/1.1\u001b[0m\" 302 -\n"
          ],
          "name": "stderr"
        },
        {
          "output_type": "stream",
          "text": [
            "{'ip': '2402:e280:2100:206:f413:a910:7290:1e18'}\n"
          ],
          "name": "stdout"
        },
        {
          "output_type": "stream",
          "text": [
            "127.0.0.1 - - [16/Mar/2021 16:03:02] \"\u001b[37mGET /main HTTP/1.1\u001b[0m\" 200 -\n",
            "127.0.0.1 - - [16/Mar/2021 16:03:04] \"\u001b[33mGET /favicon.ico HTTP/1.1\u001b[0m\" 404 -\n",
            "127.0.0.1 - - [16/Mar/2021 16:03:08] \"\u001b[33mGET /progress HTTP/1.1\u001b[0m\" 404 -\n",
            "127.0.0.1 - - [16/Mar/2021 16:03:13] \"\u001b[33mGET /progress/ HTTP/1.1\u001b[0m\" 404 -\n",
            "127.0.0.1 - - [16/Mar/2021 16:03:17] \"\u001b[37mGET /progress/0 HTTP/1.1\u001b[0m\" 200 -\n"
          ],
          "name": "stderr"
        },
        {
          "output_type": "stream",
          "text": [
            "1\n"
          ],
          "name": "stdout"
        },
        {
          "output_type": "stream",
          "text": [
            "127.0.0.1 - - [16/Mar/2021 16:03:25] \"\u001b[37mGET /progress/0 HTTP/1.1\u001b[0m\" 200 -\n"
          ],
          "name": "stderr"
        },
        {
          "output_type": "stream",
          "text": [
            "1\n"
          ],
          "name": "stdout"
        },
        {
          "output_type": "stream",
          "text": [
            "127.0.0.1 - - [16/Mar/2021 16:03:28] \"\u001b[37mPOST /progress/1 HTTP/1.1\u001b[0m\" 200 -\n"
          ],
          "name": "stderr"
        },
        {
          "output_type": "stream",
          "text": [
            "2\n"
          ],
          "name": "stdout"
        },
        {
          "output_type": "stream",
          "text": [
            "127.0.0.1 - - [16/Mar/2021 16:03:31] \"\u001b[37mPOST /progress/2 HTTP/1.1\u001b[0m\" 200 -\n"
          ],
          "name": "stderr"
        },
        {
          "output_type": "stream",
          "text": [
            "3\n"
          ],
          "name": "stdout"
        },
        {
          "output_type": "stream",
          "text": [
            "127.0.0.1 - - [16/Mar/2021 16:03:34] \"\u001b[37mPOST /progress/3 HTTP/1.1\u001b[0m\" 200 -\n"
          ],
          "name": "stderr"
        },
        {
          "output_type": "stream",
          "text": [
            "4\n"
          ],
          "name": "stdout"
        },
        {
          "output_type": "stream",
          "text": [
            "127.0.0.1 - - [16/Mar/2021 16:03:37] \"\u001b[37mPOST /progress/4 HTTP/1.1\u001b[0m\" 200 -\n"
          ],
          "name": "stderr"
        },
        {
          "output_type": "stream",
          "text": [
            "5\n"
          ],
          "name": "stdout"
        },
        {
          "output_type": "stream",
          "text": [
            "127.0.0.1 - - [16/Mar/2021 16:03:40] \"\u001b[37mPOST /progress/5 HTTP/1.1\u001b[0m\" 200 -\n"
          ],
          "name": "stderr"
        },
        {
          "output_type": "stream",
          "text": [
            "6\n"
          ],
          "name": "stdout"
        },
        {
          "output_type": "stream",
          "text": [
            "127.0.0.1 - - [16/Mar/2021 16:03:44] \"\u001b[37mPOST /progress/6 HTTP/1.1\u001b[0m\" 200 -\n"
          ],
          "name": "stderr"
        },
        {
          "output_type": "stream",
          "text": [
            "7\n"
          ],
          "name": "stdout"
        },
        {
          "output_type": "stream",
          "text": [
            "127.0.0.1 - - [16/Mar/2021 16:03:47] \"\u001b[37mPOST /progress/7 HTTP/1.1\u001b[0m\" 200 -\n"
          ],
          "name": "stderr"
        },
        {
          "output_type": "stream",
          "text": [
            "8\n"
          ],
          "name": "stdout"
        },
        {
          "output_type": "stream",
          "text": [
            "127.0.0.1 - - [16/Mar/2021 16:03:50] \"\u001b[37mPOST /progress/8 HTTP/1.1\u001b[0m\" 200 -\n"
          ],
          "name": "stderr"
        },
        {
          "output_type": "stream",
          "text": [
            "9\n"
          ],
          "name": "stdout"
        },
        {
          "output_type": "stream",
          "text": [
            "127.0.0.1 - - [16/Mar/2021 16:03:53] \"\u001b[37mPOST /progress/9 HTTP/1.1\u001b[0m\" 200 -\n"
          ],
          "name": "stderr"
        },
        {
          "output_type": "stream",
          "text": [
            "10\n"
          ],
          "name": "stdout"
        },
        {
          "output_type": "stream",
          "text": [
            "127.0.0.1 - - [16/Mar/2021 16:03:56] \"\u001b[37mPOST /progress/10 HTTP/1.1\u001b[0m\" 200 -\n"
          ],
          "name": "stderr"
        },
        {
          "output_type": "stream",
          "text": [
            "11\n"
          ],
          "name": "stdout"
        },
        {
          "output_type": "stream",
          "text": [
            "127.0.0.1 - - [16/Mar/2021 16:04:00] \"\u001b[37mPOST /progress/11 HTTP/1.1\u001b[0m\" 200 -\n"
          ],
          "name": "stderr"
        },
        {
          "output_type": "stream",
          "text": [
            "12\n"
          ],
          "name": "stdout"
        },
        {
          "output_type": "stream",
          "text": [
            "127.0.0.1 - - [16/Mar/2021 16:04:03] \"\u001b[37mPOST /progress/12 HTTP/1.1\u001b[0m\" 200 -\n"
          ],
          "name": "stderr"
        },
        {
          "output_type": "stream",
          "text": [
            "13\n"
          ],
          "name": "stdout"
        },
        {
          "output_type": "stream",
          "text": [
            "127.0.0.1 - - [16/Mar/2021 16:04:06] \"\u001b[37mPOST /progress/13 HTTP/1.1\u001b[0m\" 200 -\n"
          ],
          "name": "stderr"
        },
        {
          "output_type": "stream",
          "text": [
            "14\n"
          ],
          "name": "stdout"
        },
        {
          "output_type": "stream",
          "text": [
            "127.0.0.1 - - [16/Mar/2021 16:04:09] \"\u001b[37mPOST /progress/14 HTTP/1.1\u001b[0m\" 200 -\n"
          ],
          "name": "stderr"
        },
        {
          "output_type": "stream",
          "text": [
            "15\n"
          ],
          "name": "stdout"
        },
        {
          "output_type": "stream",
          "text": [
            "127.0.0.1 - - [16/Mar/2021 16:04:12] \"\u001b[37mPOST /progress/15 HTTP/1.1\u001b[0m\" 200 -\n"
          ],
          "name": "stderr"
        },
        {
          "output_type": "stream",
          "text": [
            "16\n"
          ],
          "name": "stdout"
        },
        {
          "output_type": "stream",
          "text": [
            "127.0.0.1 - - [16/Mar/2021 16:04:15] \"\u001b[37mPOST /progress/16 HTTP/1.1\u001b[0m\" 200 -\n"
          ],
          "name": "stderr"
        },
        {
          "output_type": "stream",
          "text": [
            "17\n"
          ],
          "name": "stdout"
        },
        {
          "output_type": "stream",
          "text": [
            "127.0.0.1 - - [16/Mar/2021 16:04:18] \"\u001b[37mPOST /progress/17 HTTP/1.1\u001b[0m\" 200 -\n"
          ],
          "name": "stderr"
        },
        {
          "output_type": "stream",
          "text": [
            "18\n"
          ],
          "name": "stdout"
        },
        {
          "output_type": "stream",
          "text": [
            "127.0.0.1 - - [16/Mar/2021 16:04:22] \"\u001b[37mPOST /progress/18 HTTP/1.1\u001b[0m\" 200 -\n"
          ],
          "name": "stderr"
        },
        {
          "output_type": "stream",
          "text": [
            "19\n"
          ],
          "name": "stdout"
        },
        {
          "output_type": "stream",
          "text": [
            "127.0.0.1 - - [16/Mar/2021 16:04:25] \"\u001b[37mPOST /progress/19 HTTP/1.1\u001b[0m\" 200 -\n"
          ],
          "name": "stderr"
        },
        {
          "output_type": "stream",
          "text": [
            "20\n"
          ],
          "name": "stdout"
        },
        {
          "output_type": "stream",
          "text": [
            "127.0.0.1 - - [16/Mar/2021 16:04:28] \"\u001b[37mPOST /progress/20 HTTP/1.1\u001b[0m\" 200 -\n"
          ],
          "name": "stderr"
        },
        {
          "output_type": "stream",
          "text": [
            "21\n"
          ],
          "name": "stdout"
        },
        {
          "output_type": "stream",
          "text": [
            "127.0.0.1 - - [16/Mar/2021 16:04:31] \"\u001b[37mPOST /progress/21 HTTP/1.1\u001b[0m\" 200 -\n"
          ],
          "name": "stderr"
        },
        {
          "output_type": "stream",
          "text": [
            "22\n"
          ],
          "name": "stdout"
        },
        {
          "output_type": "stream",
          "text": [
            "127.0.0.1 - - [16/Mar/2021 16:04:35] \"\u001b[37mPOST /progress/22 HTTP/1.1\u001b[0m\" 200 -\n"
          ],
          "name": "stderr"
        },
        {
          "output_type": "stream",
          "text": [
            "23\n"
          ],
          "name": "stdout"
        },
        {
          "output_type": "stream",
          "text": [
            "127.0.0.1 - - [16/Mar/2021 16:04:38] \"\u001b[37mPOST /progress/23 HTTP/1.1\u001b[0m\" 200 -\n"
          ],
          "name": "stderr"
        },
        {
          "output_type": "stream",
          "text": [
            "24\n"
          ],
          "name": "stdout"
        },
        {
          "output_type": "stream",
          "text": [
            "127.0.0.1 - - [16/Mar/2021 16:04:41] \"\u001b[37mPOST /progress/24 HTTP/1.1\u001b[0m\" 200 -\n"
          ],
          "name": "stderr"
        },
        {
          "output_type": "stream",
          "text": [
            "25\n"
          ],
          "name": "stdout"
        },
        {
          "output_type": "stream",
          "text": [
            "127.0.0.1 - - [16/Mar/2021 16:04:44] \"\u001b[37mPOST /progress/25 HTTP/1.1\u001b[0m\" 200 -\n"
          ],
          "name": "stderr"
        },
        {
          "output_type": "stream",
          "text": [
            "26\n"
          ],
          "name": "stdout"
        },
        {
          "output_type": "stream",
          "text": [
            "127.0.0.1 - - [16/Mar/2021 16:04:47] \"\u001b[37mPOST /progress/26 HTTP/1.1\u001b[0m\" 200 -\n"
          ],
          "name": "stderr"
        },
        {
          "output_type": "stream",
          "text": [
            "27\n"
          ],
          "name": "stdout"
        },
        {
          "output_type": "stream",
          "text": [
            "127.0.0.1 - - [16/Mar/2021 16:04:50] \"\u001b[37mPOST /progress/27 HTTP/1.1\u001b[0m\" 200 -\n"
          ],
          "name": "stderr"
        },
        {
          "output_type": "stream",
          "text": [
            "28\n"
          ],
          "name": "stdout"
        },
        {
          "output_type": "stream",
          "text": [
            "127.0.0.1 - - [16/Mar/2021 16:04:53] \"\u001b[37mPOST /progress/28 HTTP/1.1\u001b[0m\" 200 -\n"
          ],
          "name": "stderr"
        },
        {
          "output_type": "stream",
          "text": [
            "29\n"
          ],
          "name": "stdout"
        },
        {
          "output_type": "stream",
          "text": [
            "127.0.0.1 - - [16/Mar/2021 16:04:56] \"\u001b[37mPOST /progress/29 HTTP/1.1\u001b[0m\" 200 -\n"
          ],
          "name": "stderr"
        },
        {
          "output_type": "stream",
          "text": [
            "30\n"
          ],
          "name": "stdout"
        },
        {
          "output_type": "stream",
          "text": [
            "127.0.0.1 - - [16/Mar/2021 16:04:59] \"\u001b[37mPOST /progress/30 HTTP/1.1\u001b[0m\" 200 -\n"
          ],
          "name": "stderr"
        },
        {
          "output_type": "stream",
          "text": [
            "31\n"
          ],
          "name": "stdout"
        },
        {
          "output_type": "stream",
          "text": [
            "127.0.0.1 - - [16/Mar/2021 16:05:03] \"\u001b[37mPOST /progress/31 HTTP/1.1\u001b[0m\" 200 -\n"
          ],
          "name": "stderr"
        },
        {
          "output_type": "stream",
          "text": [
            "32\n"
          ],
          "name": "stdout"
        },
        {
          "output_type": "stream",
          "text": [
            "127.0.0.1 - - [16/Mar/2021 16:05:07] \"\u001b[37mPOST /progress/32 HTTP/1.1\u001b[0m\" 200 -\n"
          ],
          "name": "stderr"
        },
        {
          "output_type": "stream",
          "text": [
            "33\n"
          ],
          "name": "stdout"
        },
        {
          "output_type": "stream",
          "text": [
            "127.0.0.1 - - [16/Mar/2021 16:05:12] \"\u001b[37mPOST /progress/33 HTTP/1.1\u001b[0m\" 200 -\n"
          ],
          "name": "stderr"
        },
        {
          "output_type": "stream",
          "text": [
            "34\n"
          ],
          "name": "stdout"
        },
        {
          "output_type": "stream",
          "text": [
            "127.0.0.1 - - [16/Mar/2021 16:05:15] \"\u001b[37mPOST /progress/34 HTTP/1.1\u001b[0m\" 200 -\n"
          ],
          "name": "stderr"
        },
        {
          "output_type": "stream",
          "text": [
            "35\n"
          ],
          "name": "stdout"
        },
        {
          "output_type": "stream",
          "text": [
            "127.0.0.1 - - [16/Mar/2021 16:05:19] \"\u001b[37mPOST /progress/35 HTTP/1.1\u001b[0m\" 200 -\n"
          ],
          "name": "stderr"
        },
        {
          "output_type": "stream",
          "text": [
            "36\n"
          ],
          "name": "stdout"
        },
        {
          "output_type": "stream",
          "text": [
            "127.0.0.1 - - [16/Mar/2021 16:05:22] \"\u001b[37mPOST /progress/36 HTTP/1.1\u001b[0m\" 200 -\n"
          ],
          "name": "stderr"
        },
        {
          "output_type": "stream",
          "text": [
            "37\n"
          ],
          "name": "stdout"
        },
        {
          "output_type": "stream",
          "text": [
            "127.0.0.1 - - [16/Mar/2021 16:05:26] \"\u001b[37mPOST /progress/37 HTTP/1.1\u001b[0m\" 200 -\n"
          ],
          "name": "stderr"
        },
        {
          "output_type": "stream",
          "text": [
            "38\n"
          ],
          "name": "stdout"
        },
        {
          "output_type": "stream",
          "text": [
            "127.0.0.1 - - [16/Mar/2021 16:05:30] \"\u001b[37mPOST /progress/38 HTTP/1.1\u001b[0m\" 200 -\n"
          ],
          "name": "stderr"
        },
        {
          "output_type": "stream",
          "text": [
            "39\n"
          ],
          "name": "stdout"
        },
        {
          "output_type": "stream",
          "text": [
            "127.0.0.1 - - [16/Mar/2021 16:05:33] \"\u001b[37mPOST /progress/39 HTTP/1.1\u001b[0m\" 200 -\n"
          ],
          "name": "stderr"
        },
        {
          "output_type": "stream",
          "text": [
            "40\n"
          ],
          "name": "stdout"
        },
        {
          "output_type": "stream",
          "text": [
            "127.0.0.1 - - [16/Mar/2021 16:05:39] \"\u001b[37mPOST /progress/40 HTTP/1.1\u001b[0m\" 200 -\n"
          ],
          "name": "stderr"
        },
        {
          "output_type": "stream",
          "text": [
            "41\n"
          ],
          "name": "stdout"
        },
        {
          "output_type": "stream",
          "text": [
            "127.0.0.1 - - [16/Mar/2021 16:05:42] \"\u001b[37mPOST /progress/41 HTTP/1.1\u001b[0m\" 200 -\n"
          ],
          "name": "stderr"
        },
        {
          "output_type": "stream",
          "text": [
            "42\n"
          ],
          "name": "stdout"
        },
        {
          "output_type": "stream",
          "text": [
            "127.0.0.1 - - [16/Mar/2021 16:05:47] \"\u001b[37mPOST /progress/42 HTTP/1.1\u001b[0m\" 200 -\n"
          ],
          "name": "stderr"
        },
        {
          "output_type": "stream",
          "text": [
            "43\n"
          ],
          "name": "stdout"
        },
        {
          "output_type": "stream",
          "text": [
            "127.0.0.1 - - [16/Mar/2021 16:05:50] \"\u001b[37mPOST /progress/43 HTTP/1.1\u001b[0m\" 200 -\n"
          ],
          "name": "stderr"
        },
        {
          "output_type": "stream",
          "text": [
            "44\n"
          ],
          "name": "stdout"
        },
        {
          "output_type": "stream",
          "text": [
            "127.0.0.1 - - [16/Mar/2021 16:05:56] \"\u001b[37mPOST /progress/44 HTTP/1.1\u001b[0m\" 200 -\n"
          ],
          "name": "stderr"
        },
        {
          "output_type": "stream",
          "text": [
            "45\n"
          ],
          "name": "stdout"
        },
        {
          "output_type": "stream",
          "text": [
            "127.0.0.1 - - [16/Mar/2021 16:05:59] \"\u001b[37mPOST /progress/45 HTTP/1.1\u001b[0m\" 200 -\n"
          ],
          "name": "stderr"
        },
        {
          "output_type": "stream",
          "text": [
            "46\n"
          ],
          "name": "stdout"
        },
        {
          "output_type": "stream",
          "text": [
            "127.0.0.1 - - [16/Mar/2021 16:06:04] \"\u001b[37mPOST /progress/46 HTTP/1.1\u001b[0m\" 200 -\n"
          ],
          "name": "stderr"
        },
        {
          "output_type": "stream",
          "text": [
            "47\n"
          ],
          "name": "stdout"
        },
        {
          "output_type": "stream",
          "text": [
            "127.0.0.1 - - [16/Mar/2021 16:06:10] \"\u001b[37mPOST /progress/47 HTTP/1.1\u001b[0m\" 200 -\n"
          ],
          "name": "stderr"
        },
        {
          "output_type": "stream",
          "text": [
            "48\n"
          ],
          "name": "stdout"
        },
        {
          "output_type": "stream",
          "text": [
            "127.0.0.1 - - [16/Mar/2021 16:06:16] \"\u001b[37mPOST /progress/48 HTTP/1.1\u001b[0m\" 200 -\n"
          ],
          "name": "stderr"
        },
        {
          "output_type": "stream",
          "text": [
            "49\n"
          ],
          "name": "stdout"
        },
        {
          "output_type": "stream",
          "text": [
            "127.0.0.1 - - [16/Mar/2021 16:06:23] \"\u001b[37mPOST /progress/49 HTTP/1.1\u001b[0m\" 200 -\n"
          ],
          "name": "stderr"
        },
        {
          "output_type": "stream",
          "text": [
            "50\n"
          ],
          "name": "stdout"
        },
        {
          "output_type": "stream",
          "text": [
            "127.0.0.1 - - [16/Mar/2021 16:06:30] \"\u001b[37mPOST /progress/50 HTTP/1.1\u001b[0m\" 200 -\n"
          ],
          "name": "stderr"
        },
        {
          "output_type": "stream",
          "text": [
            "51\n"
          ],
          "name": "stdout"
        },
        {
          "output_type": "stream",
          "text": [
            "127.0.0.1 - - [16/Mar/2021 16:06:33] \"\u001b[37mPOST /progress/51 HTTP/1.1\u001b[0m\" 200 -\n"
          ],
          "name": "stderr"
        },
        {
          "output_type": "stream",
          "text": [
            "52\n"
          ],
          "name": "stdout"
        },
        {
          "output_type": "stream",
          "text": [
            "127.0.0.1 - - [16/Mar/2021 16:06:38] \"\u001b[37mPOST /progress/52 HTTP/1.1\u001b[0m\" 200 -\n"
          ],
          "name": "stderr"
        },
        {
          "output_type": "stream",
          "text": [
            "53\n"
          ],
          "name": "stdout"
        },
        {
          "output_type": "stream",
          "text": [
            "127.0.0.1 - - [16/Mar/2021 16:06:41] \"\u001b[37mPOST /progress/53 HTTP/1.1\u001b[0m\" 200 -\n"
          ],
          "name": "stderr"
        },
        {
          "output_type": "stream",
          "text": [
            "54\n"
          ],
          "name": "stdout"
        },
        {
          "output_type": "stream",
          "text": [
            "127.0.0.1 - - [16/Mar/2021 16:06:45] \"\u001b[37mPOST /progress/54 HTTP/1.1\u001b[0m\" 200 -\n"
          ],
          "name": "stderr"
        },
        {
          "output_type": "stream",
          "text": [
            "55\n"
          ],
          "name": "stdout"
        },
        {
          "output_type": "stream",
          "text": [
            "127.0.0.1 - - [16/Mar/2021 16:06:49] \"\u001b[37mPOST /progress/55 HTTP/1.1\u001b[0m\" 200 -\n"
          ],
          "name": "stderr"
        },
        {
          "output_type": "stream",
          "text": [
            "56\n"
          ],
          "name": "stdout"
        },
        {
          "output_type": "stream",
          "text": [
            "127.0.0.1 - - [16/Mar/2021 16:06:52] \"\u001b[37mPOST /progress/56 HTTP/1.1\u001b[0m\" 200 -\n"
          ],
          "name": "stderr"
        },
        {
          "output_type": "stream",
          "text": [
            "57\n"
          ],
          "name": "stdout"
        },
        {
          "output_type": "stream",
          "text": [
            "127.0.0.1 - - [16/Mar/2021 16:06:56] \"\u001b[37mPOST /progress/57 HTTP/1.1\u001b[0m\" 200 -\n"
          ],
          "name": "stderr"
        },
        {
          "output_type": "stream",
          "text": [
            "58\n"
          ],
          "name": "stdout"
        },
        {
          "output_type": "stream",
          "text": [
            "127.0.0.1 - - [16/Mar/2021 16:06:59] \"\u001b[37mPOST /progress/58 HTTP/1.1\u001b[0m\" 200 -\n"
          ],
          "name": "stderr"
        },
        {
          "output_type": "stream",
          "text": [
            "59\n"
          ],
          "name": "stdout"
        },
        {
          "output_type": "stream",
          "text": [
            "127.0.0.1 - - [16/Mar/2021 16:06:59] \"\u001b[32mGET / HTTP/1.1\u001b[0m\" 302 -\n"
          ],
          "name": "stderr"
        },
        {
          "output_type": "stream",
          "text": [
            "{'ip': '2402:e280:2100:206:f413:a910:7290:1e18'}\n"
          ],
          "name": "stdout"
        },
        {
          "output_type": "stream",
          "text": [
            "127.0.0.1 - - [16/Mar/2021 16:06:59] \"\u001b[37mGET /main HTTP/1.1\u001b[0m\" 200 -\n",
            "127.0.0.1 - - [16/Mar/2021 16:07:08] \"\u001b[32mPOST /upload HTTP/1.1\u001b[0m\" 302 -\n",
            "127.0.0.1 - - [16/Mar/2021 16:07:10] \"\u001b[37mGET /progress/0 HTTP/1.1\u001b[0m\" 200 -\n"
          ],
          "name": "stderr"
        },
        {
          "output_type": "stream",
          "text": [
            "1\n"
          ],
          "name": "stdout"
        },
        {
          "output_type": "stream",
          "text": [
            "127.0.0.1 - - [16/Mar/2021 16:07:13] \"\u001b[37mPOST /progress/1 HTTP/1.1\u001b[0m\" 200 -\n"
          ],
          "name": "stderr"
        },
        {
          "output_type": "stream",
          "text": [
            "2\n"
          ],
          "name": "stdout"
        },
        {
          "output_type": "stream",
          "text": [
            "127.0.0.1 - - [16/Mar/2021 16:07:16] \"\u001b[37mPOST /progress/2 HTTP/1.1\u001b[0m\" 200 -\n"
          ],
          "name": "stderr"
        },
        {
          "output_type": "stream",
          "text": [
            "3\n"
          ],
          "name": "stdout"
        }
      ]
    }
  ]
}